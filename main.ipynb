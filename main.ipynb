{
 "cells": [
  {
   "cell_type": "markdown",
   "metadata": {},
   "source": [
    "# Optimal Water Distribution in the City of Barcelona"
   ]
  },
  {
   "cell_type": "markdown",
   "metadata": {},
   "source": [
    "David Feijóo Rodríguez, Joel Jurado Díaz, Alexandre Olivé Pellicer, Santiago Pérez Pérez\n",
    "\n",
    "### Introduction \n",
    "\n",
    "The ABDataChallenge from Aigües de Barcelona is an open development challenge focused on innovation and problem-solving using prior knowledge of data and programming. By utilizing data from Aigües de Barcelona's Telelectura service and combining it with external data, the challenge seeks solutions related to topics such as Sustainability and Climate Change or Smart Cities.\n",
    "\n",
    "\n",
    "### Motivation \n",
    "Our generation is a conscious one. We are aware that today there is a serious problem of water scarcity in many regions of the world. We recognize that water wastage, caused by losses in distribution infrastructure and inefficient water use in the agricultural and urban sectors, is a significant issue. The contamination of water sources by chemicals and waste discharge affects its quality. And if that weren't enough, variations in consumption and the need for infrastructure that serves everyone make this an incredibly complex problem.\n",
    "\n",
    "Having identified the main issues and recognizing them as systemic problems, we have gone through a process of challenge definition, ideation, prototyping, and testing to find a systemic solution that can serve as a foundation to tackle these challenges.\n",
    "\n",
    "For this reason, we have designed the implementation of a solution to predict water consumption and optimize distribution from the Water Treatment Stations (WTS) to each of the census sections.\n",
    "\n",
    "### Goal\n",
    "Our objective has been to develop the MVP of a tool that models and optimizes water distribution. To achieve this, we have planned the following. First, to predict the consumption expected for the next day using consumption data. Second, we have modeled the cost of each path from a Water Treatment Station (WTS) to each census section, taking into account various factors such as distance and height differences. Based on these costs, we wanted to implement one of the most advanced optimization techniques, Particle Swarm Optimization (PSO), which, together with consumption predictions and considering constraints like the capacities of each WTS, calculates the most optimal distribution. Finally, we wanted to conclude with an interactive part that allows visualization of the obtained results overlaid on a map of Barcelona.\n",
    "\n",
    "\n",
    "### Datasets\n",
    "The first dataset from Telelectura (dataset1_v2.csv) includes 8 columns indicating:\n",
    "Census Section | District | Postal Code | Municipality | Date | Use | Number of meters | Accumulated consumption (L/day)\n",
    "\n",
    "We are provided with 4 years of data collected daily, with variations in the number of meters collecting data from each census section. The use of meters allows us to distinguish between Domestic, Industrial, and Commercial, enabling more precise data grouping.\n",
    "\n",
    "\n",
    "### Time series Processing\n",
    "A time series is a succession of chronologically ordered values spaced at intervals, which may or may not be equidistant. First, we familiarized ourselves with their functioning since we did not have much knowledge about them. We learned about models like ARIMA, LSTMs, Prophet, DeepAR, and LightGBM, and how they function for time series prediction. The first thing we did was select the data and establish the interval with which we would work.\n",
    "\n",
    "\n",
    "### Structure\n",
    "The code consists of three main parts:\n",
    "\n",
    "1. Prediction of the next day's consumption for each census section\n",
    "2. Optimization of water distribution: Particle Swarm Optimization\n",
    "3. Visualization tool\n",
    "\n",
    "### Necessary information\n",
    "The libraries used in the project are available in the attached file \"ABDataChallenge.yml\".\n",
    "\n",
    "The expected average time for executing the notebook is 4 hours.\n"
   ]
  },
  {
   "cell_type": "markdown",
   "metadata": {},
   "source": [
    "##  Variables & Imports\n"
   ]
  },
  {
   "cell_type": "code",
   "execution_count": 1,
   "metadata": {},
   "outputs": [
    {
     "name": "stderr",
     "output_type": "stream",
     "text": [
      "/home/aolivepe/miniconda3/envs/ABDataChallenge/lib/python3.8/site-packages/gluonts/json.py:101: UserWarning: Using `json`-module for json-handling. Consider installing one of `orjson`, `ujson` to speed up serialization and deserialization.\n",
      "  warnings.warn(\n",
      "/home/aolivepe/miniconda3/envs/ABDataChallenge/lib/python3.8/site-packages/tqdm/auto.py:21: TqdmWarning: IProgress not found. Please update jupyter and ipywidgets. See https://ipywidgets.readthedocs.io/en/stable/user_install.html\n",
      "  from .autonotebook import tqdm as notebook_tqdm\n"
     ]
    }
   ],
   "source": [
    "from datetime import datetime, timedelta\n",
    "import os\n",
    "import pandas as pd\n",
    "import numpy as np\n",
    "from tqdm import tqdm\n",
    "from gluonts.dataset.pandas import PandasDataset\n",
    "from gluonts.torch.model.deepar import DeepAREstimator\n",
    "import matplotlib.pyplot as plt\n",
    "from pathlib import Path\n",
    "import torch\n",
    "import math\n",
    "import geopandas as gpd\n",
    "from shapely import Polygon, wkt, Point, LineString, MultiPoint\n",
    "from shapely.wkt import loads\n",
    "import folium\n",
    "from itertools import product\n",
    "import requests\n",
    "from geopy.geocoders import Nominatim\n",
    "from geopy import distance\n"
   ]
  },
  {
   "cell_type": "markdown",
   "metadata": {},
   "source": [
    "# Section 1 : Predictor\n",
    "The objective of the project is to determine the most efficient management of water within the Aigües de Barcelona distribution network for future days. Before deciding on the routes for water supply and the sources from which to obtain the water that will be supplied to different consumption points, it is necessary to predict what the consumption will be. To achieve this, we have used a model that predicts daily water consumption per census section.\n"
   ]
  },
  {
   "cell_type": "markdown",
   "metadata": {},
   "source": [
    "## 1.1 Data pre-processing\n",
    "A model capable of predicting future water consumption has been created. The dataset1_v2 provided by the ABDataChallenge was used to train it. This dataset contains: Census Section | District | Postal Code | Municipality | Date | Use | Number of meters | Accumulated consumption (L/day).\n",
    "\n",
    "In our case, we are interested in having the daily consumption per census section. Therefore, we aggregated all the consumption per day by census section without considering other factors.\n",
    "\n",
    "One of the issues with dataset1_v2 was that there were certain days for which there was no consumption record. To solve this problem, we performed an interpolation of the consumption from the previous day and the following day.\n",
    "\n",
    "Additionally, we applied clipping to remove outliers in the water consumption data. We do this to eliminate atypical consumption values, as they can distort the training of the predictive model.\n"
   ]
  },
  {
   "cell_type": "code",
   "execution_count": 27,
   "metadata": {},
   "outputs": [],
   "source": [
    "df = pd.read_csv('data/dataset1_v2.csv')\n",
    "df = df.dropna(subset=['Secció Censal/Sección censal/Census section'], axis=0)\n",
    "array_sec_cens = np.unique(np.array(df['Secció Censal/Sección censal/Census section']))"
   ]
  },
  {
   "cell_type": "code",
   "execution_count": null,
   "metadata": {},
   "outputs": [],
   "source": [
    "df = pd.read_csv('data/dataset1_v2.csv')\n",
    "df = df.dropna(subset=['Secció Censal/Sección censal/Census section'], axis=0)\n",
    "\n",
    "id =[]\n",
    "consum = []\n",
    "temps = []\n",
    "comptadors = []\n",
    "i = 0\n",
    "\n",
    "t1 = datetime.now()\n",
    "print(t1)\n",
    "for seccio in tqdm(np.unique(np.array(df['Secció Censal/Sección censal/Census section']))):\n",
    "    aux = df[df['Secció Censal/Sección censal/Census section'] == seccio]\n",
    "    \n",
    "    dates = np.unique(aux['Data/Fecha/Date'])\n",
    "    \n",
    "    id_aux = []\n",
    "    temps_aux = []\n",
    "    consum_aux_l = []\n",
    "    comptadors_aux_l = []\n",
    "    for data in dates:\n",
    "        consum_aux = aux[aux['Data/Fecha/Date'] == data][\"Consum acumulat (L/dia)/Consumo acumulado(L/día)/Accumulated Consumption (L/day)\"]\n",
    "        consum_aux = np.array(consum_aux).sum() \n",
    "        comptadors_aux = aux[aux['Data/Fecha/Date'] == data][\"Nombre de comptadors/Número de contadores/Number of meters\"]\n",
    "        comptadors_aux = comptadors_aux.sum()\n",
    "        t = datetime.strptime(data, \"%Y-%m-%d\")\n",
    "        id_aux.append(i)\n",
    "        temps_aux.append(t)\n",
    "        consum_aux_l.append(consum_aux)\n",
    "        comptadors_aux_l.append(comptadors_aux)\n",
    "\n",
    "    mean = np.mean(consum_aux_l)\n",
    "    std = np.std(consum_aux_l)\n",
    "    consum_aux_l = np.clip(consum_aux_l, 0, mean + 3*std)\n",
    "\n",
    "    difference = np.diff(temps_aux)\n",
    "    id_aux = np.array(id_aux)\n",
    "    temps_aux = np.array(temps_aux)\n",
    "    consum_aux_l = np.array(consum_aux_l)\n",
    "    comptadors_aux_l = np.array(comptadors_aux_l)\n",
    "    while (difference > np.timedelta64(1, 'D')).any():\n",
    "        mask = np.where(difference>np.timedelta64(1, 'D'))\n",
    "        temps_aux = np.insert(temps_aux, mask[0] + 1,temps_aux[mask[0]] + timedelta(days=1))\n",
    "        consum_aux_l = np.insert(consum_aux_l, mask[0] + 1, (consum_aux_l[mask[0]] + consum_aux_l[mask[0]+1])/2)\n",
    "        comptadors_aux_l = np.insert(comptadors_aux_l, mask[0] + 1, (comptadors_aux_l[mask[0]] + comptadors_aux_l[mask[0]+1])/2)\n",
    "        id_aux = np.insert(id_aux, mask[0] + 1,id_aux[mask[0]])\n",
    "        difference = np.diff(temps_aux)\n",
    "    i = i + 1\n",
    "    id.extend(list(id_aux))\n",
    "    consum.extend(list(consum_aux_l))\n",
    "    temps.extend(list(temps_aux))\n",
    "    comptadors.extend(list(comptadors_aux_l))\n",
    "t2 = datetime.now()\n",
    "print(t2-t1)\n",
    "data = {'id': id, 'consum': consum, 'temps': temps, 'comptadors': comptadors}\n",
    "new_df = pd.DataFrame(data)"
   ]
  },
  {
   "cell_type": "markdown",
   "metadata": {},
   "source": [
    "Before training the predictor, we performed additional data preprocessing, which we called Data Cleaning.\n",
    "\n",
    "Analyzing the data available for training, we noticed that over the four years of recorded water consumption, certain meters would stop functioning for periods ranging from 7 to 30 days. During these periods, the total recorded water consumption was reduced. It is most likely that the meters at certain consumption points stopped working, even though water consumption continued. For this reason, in order to use the most accurate training data possible and not be affected by the malfunctioning of certain meters, we decided to approximate what the actual water consumption might have been during the periods when the meters were not working.\n",
    "\n",
    "To solve this problem, we considered that the best solution was to apply an offset to the water consumption during the periods when a certain number of meters were not functioning. This adjustment ensured that, subsequently, the consumption levels were similar to those during periods when all meters were operational.\n",
    "\n",
    "Below is an image showing how data cleaning modifies the water consumption of a census section over time:\n",
    "<p align=\"center\">\n",
    "  <img src=\"Datacleaning.png\"  alt=\"Descripción de la imagen 2\" width=\"80%\"><br>\n",
    "  <em></em>\n",
    "</p>"
   ]
  },
  {
   "cell_type": "code",
   "execution_count": 8,
   "metadata": {},
   "outputs": [
    {
     "name": "stderr",
     "output_type": "stream",
     "text": [
      "100%|██████████| 1397/1397 [01:29<00:00, 15.59it/s]\n"
     ]
    }
   ],
   "source": [
    "final_consumo_suavizado_array = []\n",
    "new_consum = []\n",
    "window = 30\n",
    "umbral = 200\n",
    "for id in tqdm(np.unique(np.array(new_df['id']))):\n",
    "    consumo_suavizado_array = []\n",
    "\n",
    "    previous_cont = new_df[new_df['id'] == id].iloc[0]['comptadors']\n",
    "    previous_cons = new_df[new_df['id'] == id].iloc[0]['consum']\n",
    "    for index, row in new_df[new_df['id'] == id].iterrows():\n",
    "        if previous_cont - row['comptadors'] > umbral:\n",
    "            if consumo_suavizado_array[-1] == previous_cons:\n",
    "                diff = previous_cons - row['consum']-1\n",
    "            consumo_suavizado = row['consum']+diff\n",
    "            \n",
    "            consumo_suavizado_array.append(consumo_suavizado)\n",
    "            new_consum.append(consumo_suavizado)\n",
    "            consumos_a_considerar = []\n",
    "        else:\n",
    "            new_consum = []\n",
    "            consumo_suavizado_array.append(row['consum'])\n",
    "            previous_cont = row['comptadors']\n",
    "            previous_cons = row['consum']\n",
    "            \n",
    "    final_consumo_suavizado_array.extend(consumo_suavizado_array)\n",
    "            \n",
    "new_df['consum_suavitzat'] = final_consumo_suavizado_array"
   ]
  },
  {
   "cell_type": "markdown",
   "metadata": {},
   "source": [
    "Finally, we saved the resulting DataFrame from the preprocessing in a Feather file. The data in this DataFrame will be used to train and validate the predictive model."
   ]
  },
  {
   "cell_type": "code",
   "execution_count": 9,
   "metadata": {},
   "outputs": [
    {
     "name": "stdout",
     "output_type": "stream",
     "text": [
      "\n",
      "Saving...:  16:01:05\n",
      "\n",
      "Saved...:  16:01:05\n"
     ]
    }
   ],
   "source": [
    "\n",
    "now = datetime.now()\n",
    "current_time = now.strftime(\"%H:%M:%S\")\n",
    "print(f\"\\nSaving...:  {current_time}\")\n",
    "new_df.to_feather('preprocessed_dataset.feather')\n",
    "\n",
    "now = datetime.now()\n",
    "current_time = now.strftime(\"%H:%M:%S\")\n",
    "print(f\"\\nSaved...:  {current_time}\")"
   ]
  },
  {
   "cell_type": "markdown",
   "metadata": {},
   "source": [
    "## 1.2 Training the model\n",
    "For the prediction, we used DeepAR, a time series prediction algorithm. DeepAR is an autoregressive model that generates forecasts based on previous values of the time series, taking into account temporal dependencies. The model's structure is based on a Recurrent Neural Network.\n",
    "\n",
    "For training, we provided the consumption data for the years 2019, 2020, and 2021. The consumption data from 2022 is used to validate the model's performance."
   ]
  },
  {
   "cell_type": "code",
   "execution_count": 9,
   "metadata": {},
   "outputs": [
    {
     "name": "stdout",
     "output_type": "stream",
     "text": [
      "\n",
      "Reading csv...:  17:01:13\n",
      "\n",
      "Loaded...:  17:01:13\n"
     ]
    },
    {
     "name": "stderr",
     "output_type": "stream",
     "text": [
      "/tmp/ipykernel_4185927/3241624223.py:29: SettingWithCopyWarning: \n",
      "A value is trying to be set on a copy of a slice from a DataFrame.\n",
      "Try using .loc[row_indexer,col_indexer] = value instead\n",
      "\n",
      "See the caveats in the documentation: https://pandas.pydata.org/pandas-docs/stable/user_guide/indexing.html#returning-a-view-versus-a-copy\n",
      "  train[\"consum\"] = train[\"consum\"].divide(mean+std)\n"
     ]
    },
    {
     "name": "stderr",
     "output_type": "stream",
     "text": [
      "Trainer will use only 1 of 8 GPUs because it is running inside an interactive / notebook environment. You may try to set `Trainer(devices=8)` but please note that multi-GPU inside interactive / notebook environments is considered experimental and unstable. Your mileage may vary.\n",
      "GPU available: True (cuda), used: True\n",
      "TPU available: False, using: 0 TPU cores\n",
      "IPU available: False, using: 0 IPUs\n",
      "HPU available: False, using: 0 HPUs\n",
      "/home/aolivepe/miniconda3/envs/ABDataChallenge/lib/python3.8/site-packages/lightning/pytorch/trainer/configuration_validator.py:74: You defined a `validation_step` but have no `val_dataloader`. Skipping val loop.\n",
      "LOCAL_RANK: 0 - CUDA_VISIBLE_DEVICES: [0,1,2,3,4,5,6,7]\n",
      "\n",
      "  | Name  | Type        | Params | In sizes | Out sizes  \n",
      "---------------------------------------------------------------\n",
      "0 | model | DeepARModel | 63.2 K | ?        | [1, 100, 1]\n",
      "---------------------------------------------------------------\n",
      "63.2 K    Trainable params\n",
      "0         Non-trainable params\n",
      "63.2 K    Total params\n",
      "0.253     Total estimated model params size (MB)\n"
     ]
    },
    {
     "name": "stdout",
     "output_type": "stream",
     "text": [
      "Epoch 0: |          | 50/? [00:01<00:00, 29.66it/s, v_num=1, train_loss=-.874]"
     ]
    },
    {
     "name": "stderr",
     "output_type": "stream",
     "text": [
      "Epoch 0, global step 50: 'train_loss' reached -0.87392 (best -0.87392), saving model to '/home/aolivepe/ABDataChallenge/JamesSimpson/lightning_logs/version_1/checkpoints/epoch=0-step=50.ckpt' as top 1\n"
     ]
    },
    {
     "name": "stdout",
     "output_type": "stream",
     "text": [
      "Epoch 1: |          | 50/? [00:01<00:00, 29.29it/s, v_num=1, train_loss=-1.90]"
     ]
    },
    {
     "name": "stderr",
     "output_type": "stream",
     "text": [
      "Epoch 1, global step 100: 'train_loss' reached -1.89964 (best -1.89964), saving model to '/home/aolivepe/ABDataChallenge/JamesSimpson/lightning_logs/version_1/checkpoints/epoch=1-step=100.ckpt' as top 1\n"
     ]
    },
    {
     "name": "stdout",
     "output_type": "stream",
     "text": [
      "Epoch 2: |          | 50/? [00:01<00:00, 29.21it/s, v_num=1, train_loss=-1.91]"
     ]
    },
    {
     "name": "stderr",
     "output_type": "stream",
     "text": [
      "Epoch 2, global step 150: 'train_loss' reached -1.90892 (best -1.90892), saving model to '/home/aolivepe/ABDataChallenge/JamesSimpson/lightning_logs/version_1/checkpoints/epoch=2-step=150.ckpt' as top 1\n"
     ]
    },
    {
     "name": "stdout",
     "output_type": "stream",
     "text": [
      "Epoch 3: |          | 50/? [00:01<00:00, 27.83it/s, v_num=1, train_loss=-2.01]"
     ]
    },
    {
     "name": "stderr",
     "output_type": "stream",
     "text": [
      "Epoch 3, global step 200: 'train_loss' reached -2.00985 (best -2.00985), saving model to '/home/aolivepe/ABDataChallenge/JamesSimpson/lightning_logs/version_1/checkpoints/epoch=3-step=200.ckpt' as top 1\n"
     ]
    },
    {
     "name": "stdout",
     "output_type": "stream",
     "text": [
      "Epoch 4: |          | 50/? [00:01<00:00, 29.69it/s, v_num=1, train_loss=-2.03]"
     ]
    },
    {
     "name": "stderr",
     "output_type": "stream",
     "text": [
      "Epoch 4, global step 250: 'train_loss' reached -2.02659 (best -2.02659), saving model to '/home/aolivepe/ABDataChallenge/JamesSimpson/lightning_logs/version_1/checkpoints/epoch=4-step=250.ckpt' as top 1\n"
     ]
    },
    {
     "name": "stdout",
     "output_type": "stream",
     "text": [
      "Epoch 5: |          | 50/? [00:01<00:00, 29.63it/s, v_num=1, train_loss=-2.00]"
     ]
    },
    {
     "name": "stderr",
     "output_type": "stream",
     "text": [
      "Epoch 5, global step 300: 'train_loss' was not in top 1\n"
     ]
    },
    {
     "name": "stdout",
     "output_type": "stream",
     "text": [
      "Epoch 6: |          | 50/? [00:01<00:00, 29.66it/s, v_num=1, train_loss=-1.94]"
     ]
    },
    {
     "name": "stderr",
     "output_type": "stream",
     "text": [
      "Epoch 6, global step 350: 'train_loss' was not in top 1\n"
     ]
    },
    {
     "name": "stdout",
     "output_type": "stream",
     "text": [
      "Epoch 7: |          | 50/? [00:01<00:00, 30.73it/s, v_num=1, train_loss=-2.00]"
     ]
    },
    {
     "name": "stderr",
     "output_type": "stream",
     "text": [
      "Epoch 7, global step 400: 'train_loss' was not in top 1\n"
     ]
    },
    {
     "name": "stdout",
     "output_type": "stream",
     "text": [
      "Epoch 8: |          | 50/? [00:01<00:00, 29.86it/s, v_num=1, train_loss=-1.93]"
     ]
    },
    {
     "name": "stderr",
     "output_type": "stream",
     "text": [
      "Epoch 8, global step 450: 'train_loss' was not in top 1\n"
     ]
    },
    {
     "name": "stdout",
     "output_type": "stream",
     "text": [
      "Epoch 9: |          | 50/? [00:01<00:00, 30.26it/s, v_num=1, train_loss=-1.91]"
     ]
    },
    {
     "name": "stderr",
     "output_type": "stream",
     "text": [
      "Epoch 9, global step 500: 'train_loss' was not in top 1\n"
     ]
    },
    {
     "name": "stdout",
     "output_type": "stream",
     "text": [
      "Epoch 10: |          | 50/? [00:01<00:00, 28.15it/s, v_num=1, train_loss=-2.08]"
     ]
    },
    {
     "name": "stderr",
     "output_type": "stream",
     "text": [
      "Epoch 10, global step 550: 'train_loss' reached -2.07651 (best -2.07651), saving model to '/home/aolivepe/ABDataChallenge/JamesSimpson/lightning_logs/version_1/checkpoints/epoch=10-step=550.ckpt' as top 1\n"
     ]
    },
    {
     "name": "stdout",
     "output_type": "stream",
     "text": [
      "Epoch 11: |          | 50/? [00:01<00:00, 29.46it/s, v_num=1, train_loss=-2.00]"
     ]
    },
    {
     "name": "stderr",
     "output_type": "stream",
     "text": [
      "Epoch 11, global step 600: 'train_loss' was not in top 1\n"
     ]
    },
    {
     "name": "stdout",
     "output_type": "stream",
     "text": [
      "Epoch 12: |          | 50/? [00:01<00:00, 29.65it/s, v_num=1, train_loss=-1.95]"
     ]
    },
    {
     "name": "stderr",
     "output_type": "stream",
     "text": [
      "Epoch 12, global step 650: 'train_loss' was not in top 1\n"
     ]
    },
    {
     "name": "stdout",
     "output_type": "stream",
     "text": [
      "Epoch 13: |          | 50/? [00:01<00:00, 30.01it/s, v_num=1, train_loss=-1.98]"
     ]
    },
    {
     "name": "stderr",
     "output_type": "stream",
     "text": [
      "Epoch 13, global step 700: 'train_loss' was not in top 1\n"
     ]
    },
    {
     "name": "stdout",
     "output_type": "stream",
     "text": [
      "Epoch 14: |          | 50/? [00:01<00:00, 30.23it/s, v_num=1, train_loss=-1.97]"
     ]
    },
    {
     "name": "stderr",
     "output_type": "stream",
     "text": [
      "Epoch 14, global step 750: 'train_loss' was not in top 1\n"
     ]
    },
    {
     "name": "stdout",
     "output_type": "stream",
     "text": [
      "Epoch 15: |          | 50/? [00:01<00:00, 30.13it/s, v_num=1, train_loss=-1.99]"
     ]
    },
    {
     "name": "stderr",
     "output_type": "stream",
     "text": [
      "Epoch 15, global step 800: 'train_loss' was not in top 1\n"
     ]
    },
    {
     "name": "stdout",
     "output_type": "stream",
     "text": [
      "Epoch 16: |          | 50/? [00:01<00:00, 30.02it/s, v_num=1, train_loss=-2.04]"
     ]
    },
    {
     "name": "stderr",
     "output_type": "stream",
     "text": [
      "Epoch 16, global step 850: 'train_loss' was not in top 1\n"
     ]
    },
    {
     "name": "stdout",
     "output_type": "stream",
     "text": [
      "Epoch 17: |          | 50/? [00:01<00:00, 29.16it/s, v_num=1, train_loss=-2.14]"
     ]
    },
    {
     "name": "stderr",
     "output_type": "stream",
     "text": [
      "Epoch 17, global step 900: 'train_loss' reached -2.13963 (best -2.13963), saving model to '/home/aolivepe/ABDataChallenge/JamesSimpson/lightning_logs/version_1/checkpoints/epoch=17-step=900.ckpt' as top 1\n"
     ]
    },
    {
     "name": "stdout",
     "output_type": "stream",
     "text": [
      "Epoch 18: |          | 50/? [00:01<00:00, 28.69it/s, v_num=1, train_loss=-2.17]"
     ]
    },
    {
     "name": "stderr",
     "output_type": "stream",
     "text": [
      "Epoch 18, global step 950: 'train_loss' reached -2.17096 (best -2.17096), saving model to '/home/aolivepe/ABDataChallenge/JamesSimpson/lightning_logs/version_1/checkpoints/epoch=18-step=950.ckpt' as top 1\n"
     ]
    },
    {
     "name": "stdout",
     "output_type": "stream",
     "text": [
      "Epoch 19: |          | 50/? [00:01<00:00, 29.81it/s, v_num=1, train_loss=-2.16]"
     ]
    },
    {
     "name": "stderr",
     "output_type": "stream",
     "text": [
      "Epoch 19, global step 1000: 'train_loss' was not in top 1\n"
     ]
    },
    {
     "name": "stdout",
     "output_type": "stream",
     "text": [
      "Epoch 20: |          | 50/? [00:01<00:00, 29.36it/s, v_num=1, train_loss=-2.19]"
     ]
    },
    {
     "name": "stderr",
     "output_type": "stream",
     "text": [
      "Epoch 20, global step 1050: 'train_loss' reached -2.18774 (best -2.18774), saving model to '/home/aolivepe/ABDataChallenge/JamesSimpson/lightning_logs/version_1/checkpoints/epoch=20-step=1050.ckpt' as top 1\n"
     ]
    },
    {
     "name": "stdout",
     "output_type": "stream",
     "text": [
      "Epoch 21: |          | 50/? [00:01<00:00, 29.80it/s, v_num=1, train_loss=-2.22]"
     ]
    },
    {
     "name": "stderr",
     "output_type": "stream",
     "text": [
      "Epoch 21, global step 1100: 'train_loss' reached -2.22236 (best -2.22236), saving model to '/home/aolivepe/ABDataChallenge/JamesSimpson/lightning_logs/version_1/checkpoints/epoch=21-step=1100.ckpt' as top 1\n"
     ]
    },
    {
     "name": "stdout",
     "output_type": "stream",
     "text": [
      "Epoch 22: |          | 50/? [00:01<00:00, 29.50it/s, v_num=1, train_loss=-2.27]"
     ]
    },
    {
     "name": "stderr",
     "output_type": "stream",
     "text": [
      "Epoch 22, global step 1150: 'train_loss' reached -2.26590 (best -2.26590), saving model to '/home/aolivepe/ABDataChallenge/JamesSimpson/lightning_logs/version_1/checkpoints/epoch=22-step=1150.ckpt' as top 1\n"
     ]
    },
    {
     "name": "stdout",
     "output_type": "stream",
     "text": [
      "Epoch 23: |          | 50/? [00:01<00:00, 29.10it/s, v_num=1, train_loss=-2.30]"
     ]
    },
    {
     "name": "stderr",
     "output_type": "stream",
     "text": [
      "Epoch 23, global step 1200: 'train_loss' reached -2.30248 (best -2.30248), saving model to '/home/aolivepe/ABDataChallenge/JamesSimpson/lightning_logs/version_1/checkpoints/epoch=23-step=1200.ckpt' as top 1\n"
     ]
    },
    {
     "name": "stdout",
     "output_type": "stream",
     "text": [
      "Epoch 24: |          | 50/? [00:01<00:00, 27.70it/s, v_num=1, train_loss=-2.42]"
     ]
    },
    {
     "name": "stderr",
     "output_type": "stream",
     "text": [
      "Epoch 24, global step 1250: 'train_loss' reached -2.42160 (best -2.42160), saving model to '/home/aolivepe/ABDataChallenge/JamesSimpson/lightning_logs/version_1/checkpoints/epoch=24-step=1250.ckpt' as top 1\n"
     ]
    },
    {
     "name": "stdout",
     "output_type": "stream",
     "text": [
      "Epoch 25: |          | 50/? [00:01<00:00, 29.76it/s, v_num=1, train_loss=-2.43]"
     ]
    },
    {
     "name": "stderr",
     "output_type": "stream",
     "text": [
      "Epoch 25, global step 1300: 'train_loss' reached -2.42990 (best -2.42990), saving model to '/home/aolivepe/ABDataChallenge/JamesSimpson/lightning_logs/version_1/checkpoints/epoch=25-step=1300.ckpt' as top 1\n"
     ]
    },
    {
     "name": "stdout",
     "output_type": "stream",
     "text": [
      "Epoch 26: |          | 50/? [00:01<00:00, 26.50it/s, v_num=1, train_loss=-2.47]"
     ]
    },
    {
     "name": "stderr",
     "output_type": "stream",
     "text": [
      "Epoch 26, global step 1350: 'train_loss' reached -2.46663 (best -2.46663), saving model to '/home/aolivepe/ABDataChallenge/JamesSimpson/lightning_logs/version_1/checkpoints/epoch=26-step=1350.ckpt' as top 1\n"
     ]
    },
    {
     "name": "stdout",
     "output_type": "stream",
     "text": [
      "Epoch 27: |          | 50/? [00:01<00:00, 29.29it/s, v_num=1, train_loss=-2.52]"
     ]
    },
    {
     "name": "stderr",
     "output_type": "stream",
     "text": [
      "Epoch 27, global step 1400: 'train_loss' reached -2.51698 (best -2.51698), saving model to '/home/aolivepe/ABDataChallenge/JamesSimpson/lightning_logs/version_1/checkpoints/epoch=27-step=1400.ckpt' as top 1\n"
     ]
    },
    {
     "name": "stdout",
     "output_type": "stream",
     "text": [
      "Epoch 28: |          | 50/? [00:01<00:00, 29.56it/s, v_num=1, train_loss=-2.47]"
     ]
    },
    {
     "name": "stderr",
     "output_type": "stream",
     "text": [
      "Epoch 28, global step 1450: 'train_loss' was not in top 1\n"
     ]
    },
    {
     "name": "stdout",
     "output_type": "stream",
     "text": [
      "Epoch 29: |          | 50/? [00:01<00:00, 28.42it/s, v_num=1, train_loss=-2.56]"
     ]
    },
    {
     "name": "stderr",
     "output_type": "stream",
     "text": [
      "Epoch 29, global step 1500: 'train_loss' reached -2.55952 (best -2.55952), saving model to '/home/aolivepe/ABDataChallenge/JamesSimpson/lightning_logs/version_1/checkpoints/epoch=29-step=1500.ckpt' as top 1\n"
     ]
    },
    {
     "name": "stdout",
     "output_type": "stream",
     "text": [
      "Epoch 30: |          | 50/? [00:01<00:00, 27.83it/s, v_num=1, train_loss=-2.72]"
     ]
    },
    {
     "name": "stderr",
     "output_type": "stream",
     "text": [
      "Epoch 30, global step 1550: 'train_loss' reached -2.71634 (best -2.71634), saving model to '/home/aolivepe/ABDataChallenge/JamesSimpson/lightning_logs/version_1/checkpoints/epoch=30-step=1550.ckpt' as top 1\n"
     ]
    },
    {
     "name": "stdout",
     "output_type": "stream",
     "text": [
      "Epoch 31: |          | 50/? [00:01<00:00, 30.24it/s, v_num=1, train_loss=-2.59]"
     ]
    },
    {
     "name": "stderr",
     "output_type": "stream",
     "text": [
      "Epoch 31, global step 1600: 'train_loss' was not in top 1\n"
     ]
    },
    {
     "name": "stdout",
     "output_type": "stream",
     "text": [
      "Epoch 32: |          | 50/? [00:01<00:00, 29.75it/s, v_num=1, train_loss=-2.62]"
     ]
    },
    {
     "name": "stderr",
     "output_type": "stream",
     "text": [
      "Epoch 32, global step 1650: 'train_loss' was not in top 1\n"
     ]
    },
    {
     "name": "stdout",
     "output_type": "stream",
     "text": [
      "Epoch 33: |          | 50/? [00:01<00:00, 28.35it/s, v_num=1, train_loss=-2.59]"
     ]
    },
    {
     "name": "stderr",
     "output_type": "stream",
     "text": [
      "Epoch 33, global step 1700: 'train_loss' was not in top 1\n"
     ]
    },
    {
     "name": "stdout",
     "output_type": "stream",
     "text": [
      "Epoch 34: |          | 50/? [00:01<00:00, 29.06it/s, v_num=1, train_loss=-2.60]"
     ]
    },
    {
     "name": "stderr",
     "output_type": "stream",
     "text": [
      "Epoch 34, global step 1750: 'train_loss' was not in top 1\n"
     ]
    },
    {
     "name": "stdout",
     "output_type": "stream",
     "text": [
      "Epoch 35: |          | 50/? [00:01<00:00, 30.02it/s, v_num=1, train_loss=-2.62]"
     ]
    },
    {
     "name": "stderr",
     "output_type": "stream",
     "text": [
      "Epoch 35, global step 1800: 'train_loss' was not in top 1\n"
     ]
    },
    {
     "name": "stdout",
     "output_type": "stream",
     "text": [
      "Epoch 36: |          | 50/? [00:01<00:00, 28.97it/s, v_num=1, train_loss=-2.68]"
     ]
    },
    {
     "name": "stderr",
     "output_type": "stream",
     "text": [
      "Epoch 36, global step 1850: 'train_loss' was not in top 1\n"
     ]
    },
    {
     "name": "stdout",
     "output_type": "stream",
     "text": [
      "Epoch 37: |          | 50/? [00:01<00:00, 28.36it/s, v_num=1, train_loss=-2.64]"
     ]
    },
    {
     "name": "stderr",
     "output_type": "stream",
     "text": [
      "Epoch 37, global step 1900: 'train_loss' was not in top 1\n"
     ]
    },
    {
     "name": "stdout",
     "output_type": "stream",
     "text": [
      "Epoch 38: |          | 50/? [00:01<00:00, 28.48it/s, v_num=1, train_loss=-2.65]"
     ]
    },
    {
     "name": "stderr",
     "output_type": "stream",
     "text": [
      "Epoch 38, global step 1950: 'train_loss' was not in top 1\n"
     ]
    },
    {
     "name": "stdout",
     "output_type": "stream",
     "text": [
      "Epoch 39: |          | 50/? [00:01<00:00, 29.22it/s, v_num=1, train_loss=-2.65]"
     ]
    },
    {
     "name": "stderr",
     "output_type": "stream",
     "text": [
      "Epoch 39, global step 2000: 'train_loss' was not in top 1\n"
     ]
    },
    {
     "name": "stdout",
     "output_type": "stream",
     "text": [
      "Epoch 40: |          | 50/? [00:01<00:00, 29.48it/s, v_num=1, train_loss=-2.59]"
     ]
    },
    {
     "name": "stderr",
     "output_type": "stream",
     "text": [
      "Epoch 40, global step 2050: 'train_loss' was not in top 1\n"
     ]
    },
    {
     "name": "stdout",
     "output_type": "stream",
     "text": [
      "Epoch 41: |          | 50/? [00:01<00:00, 29.46it/s, v_num=1, train_loss=-2.63]"
     ]
    },
    {
     "name": "stderr",
     "output_type": "stream",
     "text": [
      "Epoch 41, global step 2100: 'train_loss' was not in top 1\n"
     ]
    },
    {
     "name": "stdout",
     "output_type": "stream",
     "text": [
      "Epoch 42: |          | 50/? [00:01<00:00, 27.57it/s, v_num=1, train_loss=-2.74]"
     ]
    },
    {
     "name": "stderr",
     "output_type": "stream",
     "text": [
      "Epoch 42, global step 2150: 'train_loss' reached -2.74340 (best -2.74340), saving model to '/home/aolivepe/ABDataChallenge/JamesSimpson/lightning_logs/version_1/checkpoints/epoch=42-step=2150.ckpt' as top 1\n"
     ]
    },
    {
     "name": "stdout",
     "output_type": "stream",
     "text": [
      "Epoch 43: |          | 50/? [00:01<00:00, 29.66it/s, v_num=1, train_loss=-2.73]"
     ]
    },
    {
     "name": "stderr",
     "output_type": "stream",
     "text": [
      "Epoch 43, global step 2200: 'train_loss' was not in top 1\n"
     ]
    },
    {
     "name": "stdout",
     "output_type": "stream",
     "text": [
      "Epoch 44: |          | 50/? [00:01<00:00, 30.63it/s, v_num=1, train_loss=-2.62]"
     ]
    },
    {
     "name": "stderr",
     "output_type": "stream",
     "text": [
      "Epoch 44, global step 2250: 'train_loss' was not in top 1\n"
     ]
    },
    {
     "name": "stdout",
     "output_type": "stream",
     "text": [
      "Epoch 45: |          | 50/? [00:01<00:00, 29.45it/s, v_num=1, train_loss=-2.60]"
     ]
    },
    {
     "name": "stderr",
     "output_type": "stream",
     "text": [
      "Epoch 45, global step 2300: 'train_loss' was not in top 1\n"
     ]
    },
    {
     "name": "stdout",
     "output_type": "stream",
     "text": [
      "Epoch 46: |          | 50/? [00:01<00:00, 29.66it/s, v_num=1, train_loss=-2.60]"
     ]
    },
    {
     "name": "stderr",
     "output_type": "stream",
     "text": [
      "Epoch 46, global step 2350: 'train_loss' was not in top 1\n"
     ]
    },
    {
     "name": "stdout",
     "output_type": "stream",
     "text": [
      "Epoch 47: |          | 50/? [00:01<00:00, 29.37it/s, v_num=1, train_loss=-2.75]"
     ]
    },
    {
     "name": "stderr",
     "output_type": "stream",
     "text": [
      "Epoch 47, global step 2400: 'train_loss' reached -2.74950 (best -2.74950), saving model to '/home/aolivepe/ABDataChallenge/JamesSimpson/lightning_logs/version_1/checkpoints/epoch=47-step=2400.ckpt' as top 1\n"
     ]
    },
    {
     "name": "stdout",
     "output_type": "stream",
     "text": [
      "Epoch 48: |          | 50/? [00:01<00:00, 28.82it/s, v_num=1, train_loss=-2.70]"
     ]
    },
    {
     "name": "stderr",
     "output_type": "stream",
     "text": [
      "Epoch 48, global step 2450: 'train_loss' was not in top 1\n"
     ]
    },
    {
     "name": "stdout",
     "output_type": "stream",
     "text": [
      "Epoch 49: |          | 50/? [00:01<00:00, 28.49it/s, v_num=1, train_loss=-2.81]"
     ]
    },
    {
     "name": "stderr",
     "output_type": "stream",
     "text": [
      "Epoch 49, global step 2500: 'train_loss' reached -2.80502 (best -2.80502), saving model to '/home/aolivepe/ABDataChallenge/JamesSimpson/lightning_logs/version_1/checkpoints/epoch=49-step=2500.ckpt' as top 1\n"
     ]
    },
    {
     "name": "stdout",
     "output_type": "stream",
     "text": [
      "Epoch 50: |          | 50/? [00:01<00:00, 29.82it/s, v_num=1, train_loss=-2.67]"
     ]
    },
    {
     "name": "stderr",
     "output_type": "stream",
     "text": [
      "Epoch 50, global step 2550: 'train_loss' was not in top 1\n"
     ]
    },
    {
     "name": "stdout",
     "output_type": "stream",
     "text": [
      "Epoch 51: |          | 50/? [00:01<00:00, 29.60it/s, v_num=1, train_loss=-2.67]"
     ]
    },
    {
     "name": "stderr",
     "output_type": "stream",
     "text": [
      "Epoch 51, global step 2600: 'train_loss' was not in top 1\n"
     ]
    },
    {
     "name": "stdout",
     "output_type": "stream",
     "text": [
      "Epoch 52: |          | 50/? [00:01<00:00, 29.54it/s, v_num=1, train_loss=-2.71]"
     ]
    },
    {
     "name": "stderr",
     "output_type": "stream",
     "text": [
      "Epoch 52, global step 2650: 'train_loss' was not in top 1\n"
     ]
    },
    {
     "name": "stdout",
     "output_type": "stream",
     "text": [
      "Epoch 53: |          | 50/? [00:01<00:00, 30.36it/s, v_num=1, train_loss=-2.61]"
     ]
    },
    {
     "name": "stderr",
     "output_type": "stream",
     "text": [
      "Epoch 53, global step 2700: 'train_loss' was not in top 1\n"
     ]
    },
    {
     "name": "stdout",
     "output_type": "stream",
     "text": [
      "Epoch 54: |          | 50/? [00:01<00:00, 29.13it/s, v_num=1, train_loss=-2.73]"
     ]
    },
    {
     "name": "stderr",
     "output_type": "stream",
     "text": [
      "Epoch 54, global step 2750: 'train_loss' was not in top 1\n"
     ]
    },
    {
     "name": "stdout",
     "output_type": "stream",
     "text": [
      "Epoch 55: |          | 50/? [00:01<00:00, 28.77it/s, v_num=1, train_loss=-2.70]"
     ]
    },
    {
     "name": "stderr",
     "output_type": "stream",
     "text": [
      "Epoch 55, global step 2800: 'train_loss' was not in top 1\n"
     ]
    },
    {
     "name": "stdout",
     "output_type": "stream",
     "text": [
      "Epoch 56: |          | 50/? [00:01<00:00, 27.90it/s, v_num=1, train_loss=-2.77]"
     ]
    },
    {
     "name": "stderr",
     "output_type": "stream",
     "text": [
      "Epoch 56, global step 2850: 'train_loss' was not in top 1\n"
     ]
    },
    {
     "name": "stdout",
     "output_type": "stream",
     "text": [
      "Epoch 57: |          | 50/? [00:01<00:00, 29.70it/s, v_num=1, train_loss=-2.73]"
     ]
    },
    {
     "name": "stderr",
     "output_type": "stream",
     "text": [
      "Epoch 57, global step 2900: 'train_loss' was not in top 1\n"
     ]
    },
    {
     "name": "stdout",
     "output_type": "stream",
     "text": [
      "Epoch 58: |          | 50/? [00:01<00:00, 29.04it/s, v_num=1, train_loss=-2.76]"
     ]
    },
    {
     "name": "stderr",
     "output_type": "stream",
     "text": [
      "Epoch 58, global step 2950: 'train_loss' was not in top 1\n"
     ]
    },
    {
     "name": "stdout",
     "output_type": "stream",
     "text": [
      "Epoch 59: |          | 50/? [00:01<00:00, 29.69it/s, v_num=1, train_loss=-2.68]"
     ]
    },
    {
     "name": "stderr",
     "output_type": "stream",
     "text": [
      "Epoch 59, global step 3000: 'train_loss' was not in top 1\n"
     ]
    },
    {
     "name": "stdout",
     "output_type": "stream",
     "text": [
      "Epoch 60: |          | 50/? [00:01<00:00, 29.18it/s, v_num=1, train_loss=-2.68]"
     ]
    },
    {
     "name": "stderr",
     "output_type": "stream",
     "text": [
      "Epoch 60, global step 3050: 'train_loss' was not in top 1\n"
     ]
    },
    {
     "name": "stdout",
     "output_type": "stream",
     "text": [
      "Epoch 61: |          | 50/? [00:01<00:00, 28.27it/s, v_num=1, train_loss=-2.73]"
     ]
    },
    {
     "name": "stderr",
     "output_type": "stream",
     "text": [
      "Epoch 61, global step 3100: 'train_loss' was not in top 1\n"
     ]
    },
    {
     "name": "stdout",
     "output_type": "stream",
     "text": [
      "Epoch 62: |          | 50/? [00:01<00:00, 28.17it/s, v_num=1, train_loss=-2.76]"
     ]
    },
    {
     "name": "stderr",
     "output_type": "stream",
     "text": [
      "Epoch 62, global step 3150: 'train_loss' was not in top 1\n"
     ]
    },
    {
     "name": "stdout",
     "output_type": "stream",
     "text": [
      "Epoch 63: |          | 50/? [00:01<00:00, 30.18it/s, v_num=1, train_loss=-2.71]"
     ]
    },
    {
     "name": "stderr",
     "output_type": "stream",
     "text": [
      "Epoch 63, global step 3200: 'train_loss' was not in top 1\n"
     ]
    },
    {
     "name": "stdout",
     "output_type": "stream",
     "text": [
      "Epoch 64: |          | 50/? [00:01<00:00, 29.45it/s, v_num=1, train_loss=-2.73]"
     ]
    },
    {
     "name": "stderr",
     "output_type": "stream",
     "text": [
      "Epoch 64, global step 3250: 'train_loss' was not in top 1\n"
     ]
    },
    {
     "name": "stdout",
     "output_type": "stream",
     "text": [
      "Epoch 65: |          | 50/? [00:01<00:00, 29.23it/s, v_num=1, train_loss=-2.68]"
     ]
    },
    {
     "name": "stderr",
     "output_type": "stream",
     "text": [
      "Epoch 65, global step 3300: 'train_loss' was not in top 1\n"
     ]
    },
    {
     "name": "stdout",
     "output_type": "stream",
     "text": [
      "Epoch 66: |          | 50/? [00:01<00:00, 30.93it/s, v_num=1, train_loss=-2.71]"
     ]
    },
    {
     "name": "stderr",
     "output_type": "stream",
     "text": [
      "Epoch 66, global step 3350: 'train_loss' was not in top 1\n"
     ]
    },
    {
     "name": "stdout",
     "output_type": "stream",
     "text": [
      "Epoch 67: |          | 50/? [00:01<00:00, 29.95it/s, v_num=1, train_loss=-2.65]"
     ]
    },
    {
     "name": "stderr",
     "output_type": "stream",
     "text": [
      "Epoch 67, global step 3400: 'train_loss' was not in top 1\n"
     ]
    },
    {
     "name": "stdout",
     "output_type": "stream",
     "text": [
      "Epoch 68: |          | 50/? [00:02<00:00, 24.71it/s, v_num=1, train_loss=-2.84]"
     ]
    },
    {
     "name": "stderr",
     "output_type": "stream",
     "text": [
      "Epoch 68, global step 3450: 'train_loss' reached -2.84373 (best -2.84373), saving model to '/home/aolivepe/ABDataChallenge/JamesSimpson/lightning_logs/version_1/checkpoints/epoch=68-step=3450.ckpt' as top 1\n"
     ]
    },
    {
     "name": "stdout",
     "output_type": "stream",
     "text": [
      "Epoch 69: |          | 50/? [00:01<00:00, 28.91it/s, v_num=1, train_loss=-2.76]"
     ]
    },
    {
     "name": "stderr",
     "output_type": "stream",
     "text": [
      "Epoch 69, global step 3500: 'train_loss' was not in top 1\n"
     ]
    },
    {
     "name": "stdout",
     "output_type": "stream",
     "text": [
      "Epoch 70: |          | 50/? [00:01<00:00, 29.96it/s, v_num=1, train_loss=-2.73]"
     ]
    },
    {
     "name": "stderr",
     "output_type": "stream",
     "text": [
      "Epoch 70, global step 3550: 'train_loss' was not in top 1\n"
     ]
    },
    {
     "name": "stdout",
     "output_type": "stream",
     "text": [
      "Epoch 71: |          | 50/? [00:01<00:00, 29.57it/s, v_num=1, train_loss=-2.74]"
     ]
    },
    {
     "name": "stderr",
     "output_type": "stream",
     "text": [
      "Epoch 71, global step 3600: 'train_loss' was not in top 1\n"
     ]
    },
    {
     "name": "stdout",
     "output_type": "stream",
     "text": [
      "Epoch 72: |          | 50/? [00:01<00:00, 30.06it/s, v_num=1, train_loss=-2.70]"
     ]
    },
    {
     "name": "stderr",
     "output_type": "stream",
     "text": [
      "Epoch 72, global step 3650: 'train_loss' was not in top 1\n"
     ]
    },
    {
     "name": "stdout",
     "output_type": "stream",
     "text": [
      "Epoch 73: |          | 50/? [00:01<00:00, 29.73it/s, v_num=1, train_loss=-2.71]"
     ]
    },
    {
     "name": "stderr",
     "output_type": "stream",
     "text": [
      "Epoch 73, global step 3700: 'train_loss' was not in top 1\n"
     ]
    },
    {
     "name": "stdout",
     "output_type": "stream",
     "text": [
      "Epoch 74: |          | 50/? [00:01<00:00, 29.60it/s, v_num=1, train_loss=-2.72]"
     ]
    },
    {
     "name": "stderr",
     "output_type": "stream",
     "text": [
      "Epoch 74, global step 3750: 'train_loss' was not in top 1\n"
     ]
    },
    {
     "name": "stdout",
     "output_type": "stream",
     "text": [
      "Epoch 75: |          | 50/? [00:01<00:00, 28.92it/s, v_num=1, train_loss=-2.80]"
     ]
    },
    {
     "name": "stderr",
     "output_type": "stream",
     "text": [
      "Epoch 75, global step 3800: 'train_loss' was not in top 1\n"
     ]
    },
    {
     "name": "stdout",
     "output_type": "stream",
     "text": [
      "Epoch 76: |          | 50/? [00:01<00:00, 29.09it/s, v_num=1, train_loss=-2.72]"
     ]
    },
    {
     "name": "stderr",
     "output_type": "stream",
     "text": [
      "Epoch 76, global step 3850: 'train_loss' was not in top 1\n"
     ]
    },
    {
     "name": "stdout",
     "output_type": "stream",
     "text": [
      "Epoch 77: |          | 50/? [00:01<00:00, 29.64it/s, v_num=1, train_loss=-2.79]"
     ]
    },
    {
     "name": "stderr",
     "output_type": "stream",
     "text": [
      "Epoch 77, global step 3900: 'train_loss' was not in top 1\n"
     ]
    },
    {
     "name": "stdout",
     "output_type": "stream",
     "text": [
      "Epoch 78: |          | 50/? [00:01<00:00, 29.54it/s, v_num=1, train_loss=-2.70]"
     ]
    },
    {
     "name": "stderr",
     "output_type": "stream",
     "text": [
      "Epoch 78, global step 3950: 'train_loss' was not in top 1\n"
     ]
    },
    {
     "name": "stdout",
     "output_type": "stream",
     "text": [
      "Epoch 79: |          | 50/? [00:01<00:00, 29.97it/s, v_num=1, train_loss=-2.71]"
     ]
    },
    {
     "name": "stderr",
     "output_type": "stream",
     "text": [
      "Epoch 79, global step 4000: 'train_loss' was not in top 1\n"
     ]
    },
    {
     "name": "stdout",
     "output_type": "stream",
     "text": [
      "Epoch 80: |          | 50/? [00:01<00:00, 29.43it/s, v_num=1, train_loss=-2.73]"
     ]
    },
    {
     "name": "stderr",
     "output_type": "stream",
     "text": [
      "Epoch 80, global step 4050: 'train_loss' was not in top 1\n"
     ]
    },
    {
     "name": "stdout",
     "output_type": "stream",
     "text": [
      "Epoch 81: |          | 50/? [00:01<00:00, 28.90it/s, v_num=1, train_loss=-2.67]"
     ]
    },
    {
     "name": "stderr",
     "output_type": "stream",
     "text": [
      "Epoch 81, global step 4100: 'train_loss' was not in top 1\n"
     ]
    },
    {
     "name": "stdout",
     "output_type": "stream",
     "text": [
      "Epoch 82: |          | 50/? [00:01<00:00, 29.12it/s, v_num=1, train_loss=-2.74]"
     ]
    },
    {
     "name": "stderr",
     "output_type": "stream",
     "text": [
      "Epoch 82, global step 4150: 'train_loss' was not in top 1\n"
     ]
    },
    {
     "name": "stdout",
     "output_type": "stream",
     "text": [
      "Epoch 83: |          | 50/? [00:01<00:00, 28.15it/s, v_num=1, train_loss=-2.79]"
     ]
    },
    {
     "name": "stderr",
     "output_type": "stream",
     "text": [
      "Epoch 83, global step 4200: 'train_loss' was not in top 1\n"
     ]
    },
    {
     "name": "stdout",
     "output_type": "stream",
     "text": [
      "Epoch 84: |          | 50/? [00:01<00:00, 30.23it/s, v_num=1, train_loss=-2.77]"
     ]
    },
    {
     "name": "stderr",
     "output_type": "stream",
     "text": [
      "Epoch 84, global step 4250: 'train_loss' was not in top 1\n"
     ]
    },
    {
     "name": "stdout",
     "output_type": "stream",
     "text": [
      "Epoch 85: |          | 50/? [00:01<00:00, 29.72it/s, v_num=1, train_loss=-2.76]"
     ]
    },
    {
     "name": "stderr",
     "output_type": "stream",
     "text": [
      "Epoch 85, global step 4300: 'train_loss' was not in top 1\n"
     ]
    },
    {
     "name": "stdout",
     "output_type": "stream",
     "text": [
      "Epoch 86: |          | 50/? [00:01<00:00, 29.59it/s, v_num=1, train_loss=-2.69]"
     ]
    },
    {
     "name": "stderr",
     "output_type": "stream",
     "text": [
      "Epoch 86, global step 4350: 'train_loss' was not in top 1\n"
     ]
    },
    {
     "name": "stdout",
     "output_type": "stream",
     "text": [
      "Epoch 87: |          | 50/? [00:01<00:00, 30.10it/s, v_num=1, train_loss=-2.68]"
     ]
    },
    {
     "name": "stderr",
     "output_type": "stream",
     "text": [
      "Epoch 87, global step 4400: 'train_loss' was not in top 1\n"
     ]
    },
    {
     "name": "stdout",
     "output_type": "stream",
     "text": [
      "Epoch 88: |          | 50/? [00:01<00:00, 29.83it/s, v_num=1, train_loss=-2.68]"
     ]
    },
    {
     "name": "stderr",
     "output_type": "stream",
     "text": [
      "Epoch 88, global step 4450: 'train_loss' was not in top 1\n"
     ]
    },
    {
     "name": "stdout",
     "output_type": "stream",
     "text": [
      "Epoch 89: |          | 50/? [00:01<00:00, 29.69it/s, v_num=1, train_loss=-2.76]"
     ]
    },
    {
     "name": "stderr",
     "output_type": "stream",
     "text": [
      "Epoch 89, global step 4500: 'train_loss' was not in top 1\n"
     ]
    },
    {
     "name": "stdout",
     "output_type": "stream",
     "text": [
      "Epoch 90: |          | 50/? [00:01<00:00, 28.51it/s, v_num=1, train_loss=-2.75]"
     ]
    },
    {
     "name": "stderr",
     "output_type": "stream",
     "text": [
      "Epoch 90, global step 4550: 'train_loss' was not in top 1\n"
     ]
    },
    {
     "name": "stdout",
     "output_type": "stream",
     "text": [
      "Epoch 91: |          | 50/? [00:01<00:00, 29.19it/s, v_num=1, train_loss=-2.76]"
     ]
    },
    {
     "name": "stderr",
     "output_type": "stream",
     "text": [
      "Epoch 91, global step 4600: 'train_loss' was not in top 1\n"
     ]
    },
    {
     "name": "stdout",
     "output_type": "stream",
     "text": [
      "Epoch 92: |          | 50/? [00:01<00:00, 30.26it/s, v_num=1, train_loss=-2.79]"
     ]
    },
    {
     "name": "stderr",
     "output_type": "stream",
     "text": [
      "Epoch 92, global step 4650: 'train_loss' was not in top 1\n"
     ]
    },
    {
     "name": "stdout",
     "output_type": "stream",
     "text": [
      "Epoch 93: |          | 50/? [00:01<00:00, 29.69it/s, v_num=1, train_loss=-2.73]"
     ]
    },
    {
     "name": "stderr",
     "output_type": "stream",
     "text": [
      "Epoch 93, global step 4700: 'train_loss' was not in top 1\n"
     ]
    },
    {
     "name": "stdout",
     "output_type": "stream",
     "text": [
      "Epoch 94: |          | 50/? [00:01<00:00, 29.57it/s, v_num=1, train_loss=-2.73]"
     ]
    },
    {
     "name": "stderr",
     "output_type": "stream",
     "text": [
      "Epoch 94, global step 4750: 'train_loss' was not in top 1\n"
     ]
    },
    {
     "name": "stdout",
     "output_type": "stream",
     "text": [
      "Epoch 95: |          | 50/? [00:01<00:00, 29.46it/s, v_num=1, train_loss=-2.68]"
     ]
    },
    {
     "name": "stderr",
     "output_type": "stream",
     "text": [
      "Epoch 95, global step 4800: 'train_loss' was not in top 1\n"
     ]
    },
    {
     "name": "stdout",
     "output_type": "stream",
     "text": [
      "Epoch 96: |          | 50/? [00:01<00:00, 28.53it/s, v_num=1, train_loss=-2.73]"
     ]
    },
    {
     "name": "stderr",
     "output_type": "stream",
     "text": [
      "Epoch 96, global step 4850: 'train_loss' was not in top 1\n"
     ]
    },
    {
     "name": "stdout",
     "output_type": "stream",
     "text": [
      "Epoch 97: |          | 50/? [00:01<00:00, 28.51it/s, v_num=1, train_loss=-2.79]"
     ]
    },
    {
     "name": "stderr",
     "output_type": "stream",
     "text": [
      "Epoch 97, global step 4900: 'train_loss' was not in top 1\n"
     ]
    },
    {
     "name": "stdout",
     "output_type": "stream",
     "text": [
      "Epoch 98: |          | 50/? [00:01<00:00, 30.25it/s, v_num=1, train_loss=-2.80]"
     ]
    },
    {
     "name": "stderr",
     "output_type": "stream",
     "text": [
      "Epoch 98, global step 4950: 'train_loss' was not in top 1\n"
     ]
    },
    {
     "name": "stdout",
     "output_type": "stream",
     "text": [
      "Epoch 99: |          | 50/? [00:01<00:00, 29.23it/s, v_num=1, train_loss=-2.75]"
     ]
    },
    {
     "name": "stderr",
     "output_type": "stream",
     "text": [
      "Epoch 99, global step 5000: 'train_loss' was not in top 1\n"
     ]
    },
    {
     "name": "stdout",
     "output_type": "stream",
     "text": [
      "Epoch 100: |          | 50/? [00:01<00:00, 29.61it/s, v_num=1, train_loss=-2.66]"
     ]
    },
    {
     "name": "stderr",
     "output_type": "stream",
     "text": [
      "Epoch 100, global step 5050: 'train_loss' was not in top 1\n"
     ]
    },
    {
     "name": "stdout",
     "output_type": "stream",
     "text": [
      "Epoch 101: |          | 50/? [00:01<00:00, 29.40it/s, v_num=1, train_loss=-2.71]"
     ]
    },
    {
     "name": "stderr",
     "output_type": "stream",
     "text": [
      "Epoch 101, global step 5100: 'train_loss' was not in top 1\n"
     ]
    },
    {
     "name": "stdout",
     "output_type": "stream",
     "text": [
      "Epoch 102: |          | 50/? [00:01<00:00, 28.14it/s, v_num=1, train_loss=-2.75]"
     ]
    },
    {
     "name": "stderr",
     "output_type": "stream",
     "text": [
      "Epoch 102, global step 5150: 'train_loss' was not in top 1\n"
     ]
    },
    {
     "name": "stdout",
     "output_type": "stream",
     "text": [
      "Epoch 103: |          | 50/? [00:01<00:00, 28.49it/s, v_num=1, train_loss=-2.76]"
     ]
    },
    {
     "name": "stderr",
     "output_type": "stream",
     "text": [
      "Epoch 103, global step 5200: 'train_loss' was not in top 1\n"
     ]
    },
    {
     "name": "stdout",
     "output_type": "stream",
     "text": [
      "Epoch 104: |          | 50/? [00:01<00:00, 29.63it/s, v_num=1, train_loss=-2.70]"
     ]
    },
    {
     "name": "stderr",
     "output_type": "stream",
     "text": [
      "Epoch 104, global step 5250: 'train_loss' was not in top 1\n"
     ]
    },
    {
     "name": "stdout",
     "output_type": "stream",
     "text": [
      "Epoch 105: |          | 50/? [00:01<00:00, 29.30it/s, v_num=1, train_loss=-2.73]"
     ]
    },
    {
     "name": "stderr",
     "output_type": "stream",
     "text": [
      "Epoch 105, global step 5300: 'train_loss' was not in top 1\n"
     ]
    },
    {
     "name": "stdout",
     "output_type": "stream",
     "text": [
      "Epoch 106: |          | 50/? [00:01<00:00, 29.68it/s, v_num=1, train_loss=-2.69]"
     ]
    },
    {
     "name": "stderr",
     "output_type": "stream",
     "text": [
      "Epoch 106, global step 5350: 'train_loss' was not in top 1\n"
     ]
    },
    {
     "name": "stdout",
     "output_type": "stream",
     "text": [
      "Epoch 107: |          | 50/? [00:01<00:00, 29.69it/s, v_num=1, train_loss=-2.74]"
     ]
    },
    {
     "name": "stderr",
     "output_type": "stream",
     "text": [
      "Epoch 107, global step 5400: 'train_loss' was not in top 1\n"
     ]
    },
    {
     "name": "stdout",
     "output_type": "stream",
     "text": [
      "Epoch 108: |          | 50/? [00:01<00:00, 29.63it/s, v_num=1, train_loss=-2.69]"
     ]
    },
    {
     "name": "stderr",
     "output_type": "stream",
     "text": [
      "Epoch 108, global step 5450: 'train_loss' was not in top 1\n"
     ]
    },
    {
     "name": "stdout",
     "output_type": "stream",
     "text": [
      "Epoch 109: |          | 50/? [00:01<00:00, 27.71it/s, v_num=1, train_loss=-2.81]"
     ]
    },
    {
     "name": "stderr",
     "output_type": "stream",
     "text": [
      "Epoch 109, global step 5500: 'train_loss' was not in top 1\n"
     ]
    },
    {
     "name": "stdout",
     "output_type": "stream",
     "text": [
      "Epoch 110: |          | 50/? [00:01<00:00, 30.45it/s, v_num=1, train_loss=-2.77]"
     ]
    },
    {
     "name": "stderr",
     "output_type": "stream",
     "text": [
      "Epoch 110, global step 5550: 'train_loss' was not in top 1\n"
     ]
    },
    {
     "name": "stdout",
     "output_type": "stream",
     "text": [
      "Epoch 111: |          | 50/? [00:01<00:00, 30.29it/s, v_num=1, train_loss=-2.75]"
     ]
    },
    {
     "name": "stderr",
     "output_type": "stream",
     "text": [
      "Epoch 111, global step 5600: 'train_loss' was not in top 1\n"
     ]
    },
    {
     "name": "stdout",
     "output_type": "stream",
     "text": [
      "Epoch 112: |          | 50/? [00:01<00:00, 29.65it/s, v_num=1, train_loss=-2.69]"
     ]
    },
    {
     "name": "stderr",
     "output_type": "stream",
     "text": [
      "Epoch 112, global step 5650: 'train_loss' was not in top 1\n"
     ]
    },
    {
     "name": "stdout",
     "output_type": "stream",
     "text": [
      "Epoch 113: |          | 50/? [00:01<00:00, 29.11it/s, v_num=1, train_loss=-2.73]"
     ]
    },
    {
     "name": "stderr",
     "output_type": "stream",
     "text": [
      "Epoch 113, global step 5700: 'train_loss' was not in top 1\n"
     ]
    },
    {
     "name": "stdout",
     "output_type": "stream",
     "text": [
      "Epoch 114: |          | 50/? [00:01<00:00, 29.63it/s, v_num=1, train_loss=-2.77]"
     ]
    },
    {
     "name": "stderr",
     "output_type": "stream",
     "text": [
      "Epoch 114, global step 5750: 'train_loss' was not in top 1\n"
     ]
    },
    {
     "name": "stdout",
     "output_type": "stream",
     "text": [
      "Epoch 115: |          | 50/? [00:01<00:00, 29.63it/s, v_num=1, train_loss=-2.68]"
     ]
    },
    {
     "name": "stderr",
     "output_type": "stream",
     "text": [
      "Epoch 115, global step 5800: 'train_loss' was not in top 1\n"
     ]
    },
    {
     "name": "stdout",
     "output_type": "stream",
     "text": [
      "Epoch 116: |          | 50/? [00:01<00:00, 29.61it/s, v_num=1, train_loss=-2.79]"
     ]
    },
    {
     "name": "stderr",
     "output_type": "stream",
     "text": [
      "Epoch 116, global step 5850: 'train_loss' was not in top 1\n"
     ]
    },
    {
     "name": "stdout",
     "output_type": "stream",
     "text": [
      "Epoch 117: |          | 50/? [00:01<00:00, 28.34it/s, v_num=1, train_loss=-2.81]"
     ]
    },
    {
     "name": "stderr",
     "output_type": "stream",
     "text": [
      "Epoch 117, global step 5900: 'train_loss' was not in top 1\n"
     ]
    },
    {
     "name": "stdout",
     "output_type": "stream",
     "text": [
      "Epoch 118: |          | 50/? [00:01<00:00, 29.63it/s, v_num=1, train_loss=-2.79]"
     ]
    },
    {
     "name": "stderr",
     "output_type": "stream",
     "text": [
      "Epoch 118, global step 5950: 'train_loss' was not in top 1\n"
     ]
    },
    {
     "name": "stdout",
     "output_type": "stream",
     "text": [
      "Epoch 119: |          | 50/? [00:01<00:00, 30.04it/s, v_num=1, train_loss=-2.71]"
     ]
    },
    {
     "name": "stderr",
     "output_type": "stream",
     "text": [
      "Epoch 119, global step 6000: 'train_loss' was not in top 1\n"
     ]
    },
    {
     "name": "stdout",
     "output_type": "stream",
     "text": [
      "Epoch 120: |          | 50/? [00:01<00:00, 25.24it/s, v_num=1, train_loss=-2.72]"
     ]
    },
    {
     "name": "stderr",
     "output_type": "stream",
     "text": [
      "Epoch 120, global step 6050: 'train_loss' was not in top 1\n"
     ]
    },
    {
     "name": "stdout",
     "output_type": "stream",
     "text": [
      "Epoch 121: |          | 50/? [00:01<00:00, 29.41it/s, v_num=1, train_loss=-2.73]"
     ]
    },
    {
     "name": "stderr",
     "output_type": "stream",
     "text": [
      "Epoch 121, global step 6100: 'train_loss' was not in top 1\n"
     ]
    },
    {
     "name": "stdout",
     "output_type": "stream",
     "text": [
      "Epoch 122: |          | 50/? [00:01<00:00, 30.19it/s, v_num=1, train_loss=-2.73]"
     ]
    },
    {
     "name": "stderr",
     "output_type": "stream",
     "text": [
      "Epoch 122, global step 6150: 'train_loss' was not in top 1\n"
     ]
    },
    {
     "name": "stdout",
     "output_type": "stream",
     "text": [
      "Epoch 123: |          | 50/? [00:01<00:00, 28.07it/s, v_num=1, train_loss=-2.78]"
     ]
    },
    {
     "name": "stderr",
     "output_type": "stream",
     "text": [
      "Epoch 123, global step 6200: 'train_loss' was not in top 1\n"
     ]
    },
    {
     "name": "stdout",
     "output_type": "stream",
     "text": [
      "Epoch 124: |          | 50/? [00:01<00:00, 29.77it/s, v_num=1, train_loss=-2.79]"
     ]
    },
    {
     "name": "stderr",
     "output_type": "stream",
     "text": [
      "Epoch 124, global step 6250: 'train_loss' was not in top 1\n"
     ]
    },
    {
     "name": "stdout",
     "output_type": "stream",
     "text": [
      "Epoch 125: |          | 50/? [00:01<00:00, 29.25it/s, v_num=1, train_loss=-2.74]"
     ]
    },
    {
     "name": "stderr",
     "output_type": "stream",
     "text": [
      "Epoch 125, global step 6300: 'train_loss' was not in top 1\n"
     ]
    },
    {
     "name": "stdout",
     "output_type": "stream",
     "text": [
      "Epoch 126: |          | 50/? [00:01<00:00, 29.83it/s, v_num=1, train_loss=-2.77]"
     ]
    },
    {
     "name": "stderr",
     "output_type": "stream",
     "text": [
      "Epoch 126, global step 6350: 'train_loss' was not in top 1\n"
     ]
    },
    {
     "name": "stdout",
     "output_type": "stream",
     "text": [
      "Epoch 127: |          | 50/? [00:01<00:00, 30.18it/s, v_num=1, train_loss=-2.75]"
     ]
    },
    {
     "name": "stderr",
     "output_type": "stream",
     "text": [
      "Epoch 127, global step 6400: 'train_loss' was not in top 1\n"
     ]
    },
    {
     "name": "stdout",
     "output_type": "stream",
     "text": [
      "Epoch 128: |          | 50/? [00:01<00:00, 29.49it/s, v_num=1, train_loss=-2.67]"
     ]
    },
    {
     "name": "stderr",
     "output_type": "stream",
     "text": [
      "Epoch 128, global step 6450: 'train_loss' was not in top 1\n"
     ]
    },
    {
     "name": "stdout",
     "output_type": "stream",
     "text": [
      "Epoch 129: |          | 50/? [00:01<00:00, 29.66it/s, v_num=1, train_loss=-2.68]"
     ]
    },
    {
     "name": "stderr",
     "output_type": "stream",
     "text": [
      "Epoch 129, global step 6500: 'train_loss' was not in top 1\n"
     ]
    },
    {
     "name": "stdout",
     "output_type": "stream",
     "text": [
      "Epoch 130: |          | 50/? [00:01<00:00, 29.18it/s, v_num=1, train_loss=-2.74]"
     ]
    },
    {
     "name": "stderr",
     "output_type": "stream",
     "text": [
      "Epoch 130, global step 6550: 'train_loss' was not in top 1\n"
     ]
    },
    {
     "name": "stdout",
     "output_type": "stream",
     "text": [
      "Epoch 131: |          | 50/? [00:01<00:00, 28.32it/s, v_num=1, train_loss=-2.78]"
     ]
    },
    {
     "name": "stderr",
     "output_type": "stream",
     "text": [
      "Epoch 131, global step 6600: 'train_loss' was not in top 1\n"
     ]
    },
    {
     "name": "stdout",
     "output_type": "stream",
     "text": [
      "Epoch 132: |          | 50/? [00:01<00:00, 29.43it/s, v_num=1, train_loss=-2.73]"
     ]
    },
    {
     "name": "stderr",
     "output_type": "stream",
     "text": [
      "Epoch 132, global step 6650: 'train_loss' was not in top 1\n"
     ]
    },
    {
     "name": "stdout",
     "output_type": "stream",
     "text": [
      "Epoch 133: |          | 50/? [00:01<00:00, 30.45it/s, v_num=1, train_loss=-2.77]"
     ]
    },
    {
     "name": "stderr",
     "output_type": "stream",
     "text": [
      "Epoch 133, global step 6700: 'train_loss' was not in top 1\n"
     ]
    },
    {
     "name": "stdout",
     "output_type": "stream",
     "text": [
      "Epoch 134: |          | 50/? [00:01<00:00, 29.49it/s, v_num=1, train_loss=-2.69]"
     ]
    },
    {
     "name": "stderr",
     "output_type": "stream",
     "text": [
      "Epoch 134, global step 6750: 'train_loss' was not in top 1\n"
     ]
    },
    {
     "name": "stdout",
     "output_type": "stream",
     "text": [
      "Epoch 135: |          | 50/? [00:01<00:00, 29.73it/s, v_num=1, train_loss=-2.70]"
     ]
    },
    {
     "name": "stderr",
     "output_type": "stream",
     "text": [
      "Epoch 135, global step 6800: 'train_loss' was not in top 1\n"
     ]
    },
    {
     "name": "stdout",
     "output_type": "stream",
     "text": [
      "Epoch 136: |          | 50/? [00:01<00:00, 29.46it/s, v_num=1, train_loss=-2.70]"
     ]
    },
    {
     "name": "stderr",
     "output_type": "stream",
     "text": [
      "Epoch 136, global step 6850: 'train_loss' was not in top 1\n"
     ]
    },
    {
     "name": "stdout",
     "output_type": "stream",
     "text": [
      "Epoch 137: |          | 50/? [00:01<00:00, 28.50it/s, v_num=1, train_loss=-2.79]"
     ]
    },
    {
     "name": "stderr",
     "output_type": "stream",
     "text": [
      "Epoch 137, global step 6900: 'train_loss' was not in top 1\n"
     ]
    },
    {
     "name": "stdout",
     "output_type": "stream",
     "text": [
      "Epoch 138: |          | 50/? [00:01<00:00, 27.50it/s, v_num=1, train_loss=-2.82]"
     ]
    },
    {
     "name": "stderr",
     "output_type": "stream",
     "text": [
      "Epoch 138, global step 6950: 'train_loss' was not in top 1\n"
     ]
    },
    {
     "name": "stdout",
     "output_type": "stream",
     "text": [
      "Epoch 139: |          | 50/? [00:01<00:00, 29.77it/s, v_num=1, train_loss=-2.71]"
     ]
    },
    {
     "name": "stderr",
     "output_type": "stream",
     "text": [
      "Epoch 139, global step 7000: 'train_loss' was not in top 1\n"
     ]
    },
    {
     "name": "stdout",
     "output_type": "stream",
     "text": [
      "Epoch 140: |          | 50/? [00:01<00:00, 31.37it/s, v_num=1, train_loss=-2.78]"
     ]
    },
    {
     "name": "stderr",
     "output_type": "stream",
     "text": [
      "Epoch 140, global step 7050: 'train_loss' was not in top 1\n"
     ]
    },
    {
     "name": "stdout",
     "output_type": "stream",
     "text": [
      "Epoch 141: |          | 50/? [00:01<00:00, 31.33it/s, v_num=1, train_loss=-2.72]"
     ]
    },
    {
     "name": "stderr",
     "output_type": "stream",
     "text": [
      "Epoch 141, global step 7100: 'train_loss' was not in top 1\n"
     ]
    },
    {
     "name": "stdout",
     "output_type": "stream",
     "text": [
      "Epoch 142: |          | 50/? [00:01<00:00, 31.31it/s, v_num=1, train_loss=-2.73]"
     ]
    },
    {
     "name": "stderr",
     "output_type": "stream",
     "text": [
      "Epoch 142, global step 7150: 'train_loss' was not in top 1\n"
     ]
    },
    {
     "name": "stdout",
     "output_type": "stream",
     "text": [
      "Epoch 143: |          | 50/? [00:01<00:00, 29.09it/s, v_num=1, train_loss=-2.72]"
     ]
    },
    {
     "name": "stderr",
     "output_type": "stream",
     "text": [
      "Epoch 143, global step 7200: 'train_loss' was not in top 1\n"
     ]
    },
    {
     "name": "stdout",
     "output_type": "stream",
     "text": [
      "Epoch 144: |          | 50/? [00:01<00:00, 27.22it/s, v_num=1, train_loss=-2.87]"
     ]
    },
    {
     "name": "stderr",
     "output_type": "stream",
     "text": [
      "Epoch 144, global step 7250: 'train_loss' reached -2.86584 (best -2.86584), saving model to '/home/aolivepe/ABDataChallenge/JamesSimpson/lightning_logs/version_1/checkpoints/epoch=144-step=7250.ckpt' as top 1\n"
     ]
    },
    {
     "name": "stdout",
     "output_type": "stream",
     "text": [
      "Epoch 145: |          | 50/? [00:01<00:00, 30.19it/s, v_num=1, train_loss=-2.75]"
     ]
    },
    {
     "name": "stderr",
     "output_type": "stream",
     "text": [
      "Epoch 145, global step 7300: 'train_loss' was not in top 1\n"
     ]
    },
    {
     "name": "stdout",
     "output_type": "stream",
     "text": [
      "Epoch 146: |          | 50/? [00:01<00:00, 29.15it/s, v_num=1, train_loss=-2.76]"
     ]
    },
    {
     "name": "stderr",
     "output_type": "stream",
     "text": [
      "Epoch 146, global step 7350: 'train_loss' was not in top 1\n"
     ]
    },
    {
     "name": "stdout",
     "output_type": "stream",
     "text": [
      "Epoch 147: |          | 50/? [00:01<00:00, 29.24it/s, v_num=1, train_loss=-2.77]"
     ]
    },
    {
     "name": "stderr",
     "output_type": "stream",
     "text": [
      "Epoch 147, global step 7400: 'train_loss' was not in top 1\n"
     ]
    },
    {
     "name": "stdout",
     "output_type": "stream",
     "text": [
      "Epoch 148: |          | 50/? [00:01<00:00, 30.05it/s, v_num=1, train_loss=-2.72]"
     ]
    },
    {
     "name": "stderr",
     "output_type": "stream",
     "text": [
      "Epoch 148, global step 7450: 'train_loss' was not in top 1\n"
     ]
    },
    {
     "name": "stdout",
     "output_type": "stream",
     "text": [
      "Epoch 149: |          | 50/? [00:01<00:00, 29.59it/s, v_num=1, train_loss=-2.69]"
     ]
    },
    {
     "name": "stderr",
     "output_type": "stream",
     "text": [
      "Epoch 149, global step 7500: 'train_loss' was not in top 1\n"
     ]
    },
    {
     "name": "stdout",
     "output_type": "stream",
     "text": [
      "Epoch 150: |          | 50/? [00:01<00:00, 29.34it/s, v_num=1, train_loss=-2.75]"
     ]
    },
    {
     "name": "stderr",
     "output_type": "stream",
     "text": [
      "Epoch 150, global step 7550: 'train_loss' was not in top 1\n"
     ]
    },
    {
     "name": "stdout",
     "output_type": "stream",
     "text": [
      "Epoch 151: |          | 50/? [00:01<00:00, 28.60it/s, v_num=1, train_loss=-2.87]"
     ]
    },
    {
     "name": "stderr",
     "output_type": "stream",
     "text": [
      "Epoch 151, global step 7600: 'train_loss' reached -2.87380 (best -2.87380), saving model to '/home/aolivepe/ABDataChallenge/JamesSimpson/lightning_logs/version_1/checkpoints/epoch=151-step=7600.ckpt' as top 1\n"
     ]
    },
    {
     "name": "stdout",
     "output_type": "stream",
     "text": [
      "Epoch 152: |          | 50/? [00:01<00:00, 29.56it/s, v_num=1, train_loss=-2.74]"
     ]
    },
    {
     "name": "stderr",
     "output_type": "stream",
     "text": [
      "Epoch 152, global step 7650: 'train_loss' was not in top 1\n"
     ]
    },
    {
     "name": "stdout",
     "output_type": "stream",
     "text": [
      "Epoch 153: |          | 50/? [00:01<00:00, 30.18it/s, v_num=1, train_loss=-2.73]"
     ]
    },
    {
     "name": "stderr",
     "output_type": "stream",
     "text": [
      "Epoch 153, global step 7700: 'train_loss' was not in top 1\n"
     ]
    },
    {
     "name": "stdout",
     "output_type": "stream",
     "text": [
      "Epoch 154: |          | 50/? [00:01<00:00, 30.34it/s, v_num=1, train_loss=-2.77]"
     ]
    },
    {
     "name": "stderr",
     "output_type": "stream",
     "text": [
      "Epoch 154, global step 7750: 'train_loss' was not in top 1\n"
     ]
    },
    {
     "name": "stdout",
     "output_type": "stream",
     "text": [
      "Epoch 155: |          | 50/? [00:01<00:00, 30.48it/s, v_num=1, train_loss=-2.75]"
     ]
    },
    {
     "name": "stderr",
     "output_type": "stream",
     "text": [
      "Epoch 155, global step 7800: 'train_loss' was not in top 1\n"
     ]
    },
    {
     "name": "stdout",
     "output_type": "stream",
     "text": [
      "Epoch 156: |          | 50/? [00:01<00:00, 29.86it/s, v_num=1, train_loss=-2.74]"
     ]
    },
    {
     "name": "stderr",
     "output_type": "stream",
     "text": [
      "Epoch 156, global step 7850: 'train_loss' was not in top 1\n"
     ]
    },
    {
     "name": "stdout",
     "output_type": "stream",
     "text": [
      "Epoch 157: |          | 50/? [00:01<00:00, 28.88it/s, v_num=1, train_loss=-2.70]"
     ]
    },
    {
     "name": "stderr",
     "output_type": "stream",
     "text": [
      "Epoch 157, global step 7900: 'train_loss' was not in top 1\n"
     ]
    },
    {
     "name": "stdout",
     "output_type": "stream",
     "text": [
      "Epoch 158: |          | 50/? [00:01<00:00, 28.28it/s, v_num=1, train_loss=-2.78]"
     ]
    },
    {
     "name": "stderr",
     "output_type": "stream",
     "text": [
      "Epoch 158, global step 7950: 'train_loss' was not in top 1\n"
     ]
    },
    {
     "name": "stdout",
     "output_type": "stream",
     "text": [
      "Epoch 159: |          | 50/? [00:01<00:00, 30.37it/s, v_num=1, train_loss=-2.70]"
     ]
    },
    {
     "name": "stderr",
     "output_type": "stream",
     "text": [
      "Epoch 159, global step 8000: 'train_loss' was not in top 1\n"
     ]
    },
    {
     "name": "stdout",
     "output_type": "stream",
     "text": [
      "Epoch 160: |          | 50/? [00:01<00:00, 31.06it/s, v_num=1, train_loss=-2.78]"
     ]
    },
    {
     "name": "stderr",
     "output_type": "stream",
     "text": [
      "Epoch 160, global step 8050: 'train_loss' was not in top 1\n"
     ]
    },
    {
     "name": "stdout",
     "output_type": "stream",
     "text": [
      "Epoch 161: |          | 50/? [00:01<00:00, 30.15it/s, v_num=1, train_loss=-2.77]"
     ]
    },
    {
     "name": "stderr",
     "output_type": "stream",
     "text": [
      "Epoch 161, global step 8100: 'train_loss' was not in top 1\n"
     ]
    },
    {
     "name": "stdout",
     "output_type": "stream",
     "text": [
      "Epoch 162: |          | 50/? [00:01<00:00, 29.77it/s, v_num=1, train_loss=-2.80]"
     ]
    },
    {
     "name": "stderr",
     "output_type": "stream",
     "text": [
      "Epoch 162, global step 8150: 'train_loss' was not in top 1\n"
     ]
    },
    {
     "name": "stdout",
     "output_type": "stream",
     "text": [
      "Epoch 163: |          | 50/? [00:01<00:00, 29.37it/s, v_num=1, train_loss=-2.71]"
     ]
    },
    {
     "name": "stderr",
     "output_type": "stream",
     "text": [
      "Epoch 163, global step 8200: 'train_loss' was not in top 1\n"
     ]
    },
    {
     "name": "stdout",
     "output_type": "stream",
     "text": [
      "Epoch 164: |          | 50/? [00:01<00:00, 29.51it/s, v_num=1, train_loss=-2.66]"
     ]
    },
    {
     "name": "stderr",
     "output_type": "stream",
     "text": [
      "Epoch 164, global step 8250: 'train_loss' was not in top 1\n"
     ]
    },
    {
     "name": "stdout",
     "output_type": "stream",
     "text": [
      "Epoch 165: |          | 50/? [00:01<00:00, 29.64it/s, v_num=1, train_loss=-2.77]"
     ]
    },
    {
     "name": "stderr",
     "output_type": "stream",
     "text": [
      "Epoch 165, global step 8300: 'train_loss' was not in top 1\n"
     ]
    },
    {
     "name": "stdout",
     "output_type": "stream",
     "text": [
      "Epoch 166: |          | 50/? [00:01<00:00, 28.22it/s, v_num=1, train_loss=-2.75]"
     ]
    },
    {
     "name": "stderr",
     "output_type": "stream",
     "text": [
      "Epoch 166, global step 8350: 'train_loss' was not in top 1\n"
     ]
    },
    {
     "name": "stdout",
     "output_type": "stream",
     "text": [
      "Epoch 167: |          | 50/? [00:01<00:00, 29.59it/s, v_num=1, train_loss=-2.71]"
     ]
    },
    {
     "name": "stderr",
     "output_type": "stream",
     "text": [
      "Epoch 167, global step 8400: 'train_loss' was not in top 1\n"
     ]
    },
    {
     "name": "stdout",
     "output_type": "stream",
     "text": [
      "Epoch 168: |          | 50/? [00:01<00:00, 29.11it/s, v_num=1, train_loss=-2.76]"
     ]
    },
    {
     "name": "stderr",
     "output_type": "stream",
     "text": [
      "Epoch 168, global step 8450: 'train_loss' was not in top 1\n"
     ]
    },
    {
     "name": "stdout",
     "output_type": "stream",
     "text": [
      "Epoch 169: |          | 50/? [00:01<00:00, 30.21it/s, v_num=1, train_loss=-2.73]"
     ]
    },
    {
     "name": "stderr",
     "output_type": "stream",
     "text": [
      "Epoch 169, global step 8500: 'train_loss' was not in top 1\n"
     ]
    },
    {
     "name": "stdout",
     "output_type": "stream",
     "text": [
      "Epoch 170: |          | 50/? [00:01<00:00, 29.81it/s, v_num=1, train_loss=-2.76]"
     ]
    },
    {
     "name": "stderr",
     "output_type": "stream",
     "text": [
      "Epoch 170, global step 8550: 'train_loss' was not in top 1\n"
     ]
    },
    {
     "name": "stdout",
     "output_type": "stream",
     "text": [
      "Epoch 171: |          | 50/? [00:01<00:00, 29.59it/s, v_num=1, train_loss=-2.72]"
     ]
    },
    {
     "name": "stderr",
     "output_type": "stream",
     "text": [
      "Epoch 171, global step 8600: 'train_loss' was not in top 1\n"
     ]
    },
    {
     "name": "stdout",
     "output_type": "stream",
     "text": [
      "Epoch 172: |          | 50/? [00:01<00:00, 28.78it/s, v_num=1, train_loss=-2.78]"
     ]
    },
    {
     "name": "stderr",
     "output_type": "stream",
     "text": [
      "Epoch 172, global step 8650: 'train_loss' was not in top 1\n"
     ]
    },
    {
     "name": "stdout",
     "output_type": "stream",
     "text": [
      "Epoch 173: |          | 50/? [00:01<00:00, 29.54it/s, v_num=1, train_loss=-2.79]"
     ]
    },
    {
     "name": "stderr",
     "output_type": "stream",
     "text": [
      "Epoch 173, global step 8700: 'train_loss' was not in top 1\n"
     ]
    },
    {
     "name": "stdout",
     "output_type": "stream",
     "text": [
      "Epoch 174: |          | 50/? [00:01<00:00, 30.27it/s, v_num=1, train_loss=-2.71]"
     ]
    },
    {
     "name": "stderr",
     "output_type": "stream",
     "text": [
      "Epoch 174, global step 8750: 'train_loss' was not in top 1\n"
     ]
    },
    {
     "name": "stdout",
     "output_type": "stream",
     "text": [
      "Epoch 175: |          | 50/? [00:01<00:00, 29.74it/s, v_num=1, train_loss=-2.71]"
     ]
    },
    {
     "name": "stderr",
     "output_type": "stream",
     "text": [
      "Epoch 175, global step 8800: 'train_loss' was not in top 1\n"
     ]
    },
    {
     "name": "stdout",
     "output_type": "stream",
     "text": [
      "Epoch 176: |          | 50/? [00:01<00:00, 30.08it/s, v_num=1, train_loss=-2.69]"
     ]
    },
    {
     "name": "stderr",
     "output_type": "stream",
     "text": [
      "Epoch 176, global step 8850: 'train_loss' was not in top 1\n"
     ]
    },
    {
     "name": "stdout",
     "output_type": "stream",
     "text": [
      "Epoch 177: |          | 50/? [00:01<00:00, 29.67it/s, v_num=1, train_loss=-2.71]"
     ]
    },
    {
     "name": "stderr",
     "output_type": "stream",
     "text": [
      "Epoch 177, global step 8900: 'train_loss' was not in top 1\n"
     ]
    },
    {
     "name": "stdout",
     "output_type": "stream",
     "text": [
      "Epoch 178: |          | 50/? [00:01<00:00, 28.98it/s, v_num=1, train_loss=-2.76]"
     ]
    },
    {
     "name": "stderr",
     "output_type": "stream",
     "text": [
      "Epoch 178, global step 8950: 'train_loss' was not in top 1\n"
     ]
    },
    {
     "name": "stdout",
     "output_type": "stream",
     "text": [
      "Epoch 179: |          | 50/? [00:01<00:00, 28.06it/s, v_num=1, train_loss=-2.90]"
     ]
    },
    {
     "name": "stderr",
     "output_type": "stream",
     "text": [
      "Epoch 179, global step 9000: 'train_loss' reached -2.89505 (best -2.89505), saving model to '/home/aolivepe/ABDataChallenge/JamesSimpson/lightning_logs/version_1/checkpoints/epoch=179-step=9000.ckpt' as top 1\n"
     ]
    },
    {
     "name": "stdout",
     "output_type": "stream",
     "text": [
      "Epoch 180: |          | 50/? [00:01<00:00, 30.12it/s, v_num=1, train_loss=-2.78]"
     ]
    },
    {
     "name": "stderr",
     "output_type": "stream",
     "text": [
      "Epoch 180, global step 9050: 'train_loss' was not in top 1\n"
     ]
    },
    {
     "name": "stdout",
     "output_type": "stream",
     "text": [
      "Epoch 181: |          | 50/? [00:01<00:00, 29.83it/s, v_num=1, train_loss=-2.75]"
     ]
    },
    {
     "name": "stderr",
     "output_type": "stream",
     "text": [
      "Epoch 181, global step 9100: 'train_loss' was not in top 1\n"
     ]
    },
    {
     "name": "stdout",
     "output_type": "stream",
     "text": [
      "Epoch 182: |          | 50/? [00:01<00:00, 30.36it/s, v_num=1, train_loss=-2.74]"
     ]
    },
    {
     "name": "stderr",
     "output_type": "stream",
     "text": [
      "Epoch 182, global step 9150: 'train_loss' was not in top 1\n"
     ]
    },
    {
     "name": "stdout",
     "output_type": "stream",
     "text": [
      "Epoch 183: |          | 50/? [00:01<00:00, 29.71it/s, v_num=1, train_loss=-2.76]"
     ]
    },
    {
     "name": "stderr",
     "output_type": "stream",
     "text": [
      "Epoch 183, global step 9200: 'train_loss' was not in top 1\n"
     ]
    },
    {
     "name": "stdout",
     "output_type": "stream",
     "text": [
      "Epoch 184: |          | 50/? [00:02<00:00, 24.32it/s, v_num=1, train_loss=-2.72]"
     ]
    },
    {
     "name": "stderr",
     "output_type": "stream",
     "text": [
      "Epoch 184, global step 9250: 'train_loss' was not in top 1\n"
     ]
    },
    {
     "name": "stdout",
     "output_type": "stream",
     "text": [
      "Epoch 185: |          | 50/? [00:01<00:00, 29.25it/s, v_num=1, train_loss=-2.74]"
     ]
    },
    {
     "name": "stderr",
     "output_type": "stream",
     "text": [
      "Epoch 185, global step 9300: 'train_loss' was not in top 1\n"
     ]
    },
    {
     "name": "stdout",
     "output_type": "stream",
     "text": [
      "Epoch 186: |          | 50/? [00:01<00:00, 28.33it/s, v_num=1, train_loss=-2.84]"
     ]
    },
    {
     "name": "stderr",
     "output_type": "stream",
     "text": [
      "Epoch 186, global step 9350: 'train_loss' was not in top 1\n"
     ]
    },
    {
     "name": "stdout",
     "output_type": "stream",
     "text": [
      "Epoch 187: |          | 50/? [00:01<00:00, 30.36it/s, v_num=1, train_loss=-2.75]"
     ]
    },
    {
     "name": "stderr",
     "output_type": "stream",
     "text": [
      "Epoch 187, global step 9400: 'train_loss' was not in top 1\n"
     ]
    },
    {
     "name": "stdout",
     "output_type": "stream",
     "text": [
      "Epoch 188: |          | 50/? [00:01<00:00, 29.72it/s, v_num=1, train_loss=-2.74]"
     ]
    },
    {
     "name": "stderr",
     "output_type": "stream",
     "text": [
      "Epoch 188, global step 9450: 'train_loss' was not in top 1\n"
     ]
    },
    {
     "name": "stdout",
     "output_type": "stream",
     "text": [
      "Epoch 189: |          | 50/? [00:01<00:00, 30.15it/s, v_num=1, train_loss=-2.72]"
     ]
    },
    {
     "name": "stderr",
     "output_type": "stream",
     "text": [
      "Epoch 189, global step 9500: 'train_loss' was not in top 1\n"
     ]
    },
    {
     "name": "stdout",
     "output_type": "stream",
     "text": [
      "Epoch 190: |          | 50/? [00:01<00:00, 30.01it/s, v_num=1, train_loss=-2.72]"
     ]
    },
    {
     "name": "stderr",
     "output_type": "stream",
     "text": [
      "Epoch 190, global step 9550: 'train_loss' was not in top 1\n"
     ]
    },
    {
     "name": "stdout",
     "output_type": "stream",
     "text": [
      "Epoch 191: |          | 50/? [00:01<00:00, 30.41it/s, v_num=1, train_loss=-2.73]"
     ]
    },
    {
     "name": "stderr",
     "output_type": "stream",
     "text": [
      "Epoch 191, global step 9600: 'train_loss' was not in top 1\n"
     ]
    },
    {
     "name": "stdout",
     "output_type": "stream",
     "text": [
      "Epoch 192: |          | 50/? [00:01<00:00, 29.14it/s, v_num=1, train_loss=-2.76]"
     ]
    },
    {
     "name": "stderr",
     "output_type": "stream",
     "text": [
      "Epoch 192, global step 9650: 'train_loss' was not in top 1\n"
     ]
    },
    {
     "name": "stdout",
     "output_type": "stream",
     "text": [
      "Epoch 193: |          | 50/? [00:01<00:00, 28.37it/s, v_num=1, train_loss=-2.88]"
     ]
    },
    {
     "name": "stderr",
     "output_type": "stream",
     "text": [
      "Epoch 193, global step 9700: 'train_loss' was not in top 1\n"
     ]
    },
    {
     "name": "stdout",
     "output_type": "stream",
     "text": [
      "Epoch 194: |          | 50/? [00:01<00:00, 30.33it/s, v_num=1, train_loss=-2.79]"
     ]
    },
    {
     "name": "stderr",
     "output_type": "stream",
     "text": [
      "Epoch 194, global step 9750: 'train_loss' was not in top 1\n"
     ]
    },
    {
     "name": "stdout",
     "output_type": "stream",
     "text": [
      "Epoch 195: |          | 50/? [00:01<00:00, 30.15it/s, v_num=1, train_loss=-2.74]"
     ]
    },
    {
     "name": "stderr",
     "output_type": "stream",
     "text": [
      "Epoch 195, global step 9800: 'train_loss' was not in top 1\n"
     ]
    },
    {
     "name": "stdout",
     "output_type": "stream",
     "text": [
      "Epoch 196: |          | 50/? [00:01<00:00, 30.46it/s, v_num=1, train_loss=-2.78]"
     ]
    },
    {
     "name": "stderr",
     "output_type": "stream",
     "text": [
      "Epoch 196, global step 9850: 'train_loss' was not in top 1\n"
     ]
    },
    {
     "name": "stdout",
     "output_type": "stream",
     "text": [
      "Epoch 197: |          | 50/? [00:01<00:00, 29.70it/s, v_num=1, train_loss=-2.76]"
     ]
    },
    {
     "name": "stderr",
     "output_type": "stream",
     "text": [
      "Epoch 197, global step 9900: 'train_loss' was not in top 1\n"
     ]
    },
    {
     "name": "stdout",
     "output_type": "stream",
     "text": [
      "Epoch 198: |          | 50/? [00:01<00:00, 29.87it/s, v_num=1, train_loss=-2.74]"
     ]
    },
    {
     "name": "stderr",
     "output_type": "stream",
     "text": [
      "Epoch 198, global step 9950: 'train_loss' was not in top 1\n"
     ]
    },
    {
     "name": "stdout",
     "output_type": "stream",
     "text": [
      "Epoch 199: |          | 50/? [00:01<00:00, 29.27it/s, v_num=1, train_loss=-2.76]"
     ]
    },
    {
     "name": "stderr",
     "output_type": "stream",
     "text": [
      "Epoch 199, global step 10000: 'train_loss' was not in top 1\n"
     ]
    },
    {
     "name": "stdout",
     "output_type": "stream",
     "text": [
      "Epoch 200: |          | 50/? [00:01<00:00, 27.71it/s, v_num=1, train_loss=-2.76]"
     ]
    },
    {
     "name": "stderr",
     "output_type": "stream",
     "text": [
      "Epoch 200, global step 10050: 'train_loss' was not in top 1\n"
     ]
    },
    {
     "name": "stdout",
     "output_type": "stream",
     "text": [
      "Epoch 201: |          | 50/? [00:01<00:00, 29.93it/s, v_num=1, train_loss=-2.74]"
     ]
    },
    {
     "name": "stderr",
     "output_type": "stream",
     "text": [
      "Epoch 201, global step 10100: 'train_loss' was not in top 1\n"
     ]
    },
    {
     "name": "stdout",
     "output_type": "stream",
     "text": [
      "Epoch 202: |          | 50/? [00:01<00:00, 29.05it/s, v_num=1, train_loss=-2.70]"
     ]
    },
    {
     "name": "stderr",
     "output_type": "stream",
     "text": [
      "Epoch 202, global step 10150: 'train_loss' was not in top 1\n"
     ]
    },
    {
     "name": "stdout",
     "output_type": "stream",
     "text": [
      "Epoch 203: |          | 50/? [00:01<00:00, 29.95it/s, v_num=1, train_loss=-2.73]"
     ]
    },
    {
     "name": "stderr",
     "output_type": "stream",
     "text": [
      "Epoch 203, global step 10200: 'train_loss' was not in top 1\n"
     ]
    },
    {
     "name": "stdout",
     "output_type": "stream",
     "text": [
      "Epoch 204: |          | 50/? [00:01<00:00, 29.81it/s, v_num=1, train_loss=-2.70]"
     ]
    },
    {
     "name": "stderr",
     "output_type": "stream",
     "text": [
      "Epoch 204, global step 10250: 'train_loss' was not in top 1\n"
     ]
    },
    {
     "name": "stdout",
     "output_type": "stream",
     "text": [
      "Epoch 205: |          | 50/? [00:01<00:00, 29.22it/s, v_num=1, train_loss=-2.73]"
     ]
    },
    {
     "name": "stderr",
     "output_type": "stream",
     "text": [
      "Epoch 205, global step 10300: 'train_loss' was not in top 1\n"
     ]
    },
    {
     "name": "stdout",
     "output_type": "stream",
     "text": [
      "Epoch 206: |          | 50/? [00:01<00:00, 28.20it/s, v_num=1, train_loss=-2.82]"
     ]
    },
    {
     "name": "stderr",
     "output_type": "stream",
     "text": [
      "Epoch 206, global step 10350: 'train_loss' was not in top 1\n"
     ]
    },
    {
     "name": "stdout",
     "output_type": "stream",
     "text": [
      "Epoch 207: |          | 50/? [00:01<00:00, 29.18it/s, v_num=1, train_loss=-2.77]"
     ]
    },
    {
     "name": "stderr",
     "output_type": "stream",
     "text": [
      "Epoch 207, global step 10400: 'train_loss' was not in top 1\n"
     ]
    },
    {
     "name": "stdout",
     "output_type": "stream",
     "text": [
      "Epoch 208: |          | 50/? [00:01<00:00, 30.36it/s, v_num=1, train_loss=-2.75]"
     ]
    },
    {
     "name": "stderr",
     "output_type": "stream",
     "text": [
      "Epoch 208, global step 10450: 'train_loss' was not in top 1\n"
     ]
    },
    {
     "name": "stdout",
     "output_type": "stream",
     "text": [
      "Epoch 209: |          | 50/? [00:01<00:00, 29.79it/s, v_num=1, train_loss=-2.76]"
     ]
    },
    {
     "name": "stderr",
     "output_type": "stream",
     "text": [
      "Epoch 209, global step 10500: 'train_loss' was not in top 1\n"
     ]
    },
    {
     "name": "stdout",
     "output_type": "stream",
     "text": [
      "Epoch 210: |          | 50/? [00:01<00:00, 29.80it/s, v_num=1, train_loss=-2.69]"
     ]
    },
    {
     "name": "stderr",
     "output_type": "stream",
     "text": [
      "Epoch 210, global step 10550: 'train_loss' was not in top 1\n"
     ]
    },
    {
     "name": "stdout",
     "output_type": "stream",
     "text": [
      "Epoch 211: |          | 50/? [00:01<00:00, 29.92it/s, v_num=1, train_loss=-2.69]"
     ]
    },
    {
     "name": "stderr",
     "output_type": "stream",
     "text": [
      "Epoch 211, global step 10600: 'train_loss' was not in top 1\n"
     ]
    },
    {
     "name": "stdout",
     "output_type": "stream",
     "text": [
      "Epoch 212: |          | 50/? [00:01<00:00, 29.45it/s, v_num=1, train_loss=-2.69]"
     ]
    },
    {
     "name": "stderr",
     "output_type": "stream",
     "text": [
      "Epoch 212, global step 10650: 'train_loss' was not in top 1\n"
     ]
    },
    {
     "name": "stdout",
     "output_type": "stream",
     "text": [
      "Epoch 213: |          | 50/? [00:01<00:00, 27.27it/s, v_num=1, train_loss=-2.78]"
     ]
    },
    {
     "name": "stderr",
     "output_type": "stream",
     "text": [
      "Epoch 213, global step 10700: 'train_loss' was not in top 1\n"
     ]
    },
    {
     "name": "stdout",
     "output_type": "stream",
     "text": [
      "Epoch 214: |          | 50/? [00:01<00:00, 30.42it/s, v_num=1, train_loss=-2.76]"
     ]
    },
    {
     "name": "stderr",
     "output_type": "stream",
     "text": [
      "Epoch 214, global step 10750: 'train_loss' was not in top 1\n"
     ]
    },
    {
     "name": "stdout",
     "output_type": "stream",
     "text": [
      "Epoch 215: |          | 50/? [00:01<00:00, 30.35it/s, v_num=1, train_loss=-2.75]"
     ]
    },
    {
     "name": "stderr",
     "output_type": "stream",
     "text": [
      "Epoch 215, global step 10800: 'train_loss' was not in top 1\n"
     ]
    },
    {
     "name": "stdout",
     "output_type": "stream",
     "text": [
      "Epoch 216: |          | 50/? [00:01<00:00, 29.56it/s, v_num=1, train_loss=-2.73]"
     ]
    },
    {
     "name": "stderr",
     "output_type": "stream",
     "text": [
      "Epoch 216, global step 10850: 'train_loss' was not in top 1\n"
     ]
    },
    {
     "name": "stdout",
     "output_type": "stream",
     "text": [
      "Epoch 217: |          | 50/? [00:01<00:00, 28.73it/s, v_num=1, train_loss=-2.76]"
     ]
    },
    {
     "name": "stderr",
     "output_type": "stream",
     "text": [
      "Epoch 217, global step 10900: 'train_loss' was not in top 1\n"
     ]
    },
    {
     "name": "stdout",
     "output_type": "stream",
     "text": [
      "Epoch 218: |          | 50/? [00:01<00:00, 29.91it/s, v_num=1, train_loss=-2.76]"
     ]
    },
    {
     "name": "stderr",
     "output_type": "stream",
     "text": [
      "Epoch 218, global step 10950: 'train_loss' was not in top 1\n"
     ]
    },
    {
     "name": "stdout",
     "output_type": "stream",
     "text": [
      "Epoch 219: |          | 50/? [00:01<00:00, 28.97it/s, v_num=1, train_loss=-2.79]"
     ]
    },
    {
     "name": "stderr",
     "output_type": "stream",
     "text": [
      "Epoch 219, global step 11000: 'train_loss' was not in top 1\n"
     ]
    },
    {
     "name": "stdout",
     "output_type": "stream",
     "text": [
      "Epoch 220: |          | 50/? [00:01<00:00, 29.23it/s, v_num=1, train_loss=-2.78]"
     ]
    },
    {
     "name": "stderr",
     "output_type": "stream",
     "text": [
      "Epoch 220, global step 11050: 'train_loss' was not in top 1\n"
     ]
    },
    {
     "name": "stdout",
     "output_type": "stream",
     "text": [
      "Epoch 221: |          | 50/? [00:01<00:00, 29.88it/s, v_num=1, train_loss=-2.76]"
     ]
    },
    {
     "name": "stderr",
     "output_type": "stream",
     "text": [
      "Epoch 221, global step 11100: 'train_loss' was not in top 1\n"
     ]
    },
    {
     "name": "stdout",
     "output_type": "stream",
     "text": [
      "Epoch 222: |          | 50/? [00:01<00:00, 30.71it/s, v_num=1, train_loss=-2.73]"
     ]
    },
    {
     "name": "stderr",
     "output_type": "stream",
     "text": [
      "Epoch 222, global step 11150: 'train_loss' was not in top 1\n"
     ]
    },
    {
     "name": "stdout",
     "output_type": "stream",
     "text": [
      "Epoch 223: |          | 50/? [00:01<00:00, 29.85it/s, v_num=1, train_loss=-2.71]"
     ]
    },
    {
     "name": "stderr",
     "output_type": "stream",
     "text": [
      "Epoch 223, global step 11200: 'train_loss' was not in top 1\n"
     ]
    },
    {
     "name": "stdout",
     "output_type": "stream",
     "text": [
      "Epoch 224: |          | 50/? [00:01<00:00, 29.31it/s, v_num=1, train_loss=-2.70]"
     ]
    },
    {
     "name": "stderr",
     "output_type": "stream",
     "text": [
      "Epoch 224, global step 11250: 'train_loss' was not in top 1\n"
     ]
    },
    {
     "name": "stdout",
     "output_type": "stream",
     "text": [
      "Epoch 225: |          | 50/? [00:01<00:00, 30.33it/s, v_num=1, train_loss=-2.70]"
     ]
    },
    {
     "name": "stderr",
     "output_type": "stream",
     "text": [
      "Epoch 225, global step 11300: 'train_loss' was not in top 1\n"
     ]
    },
    {
     "name": "stdout",
     "output_type": "stream",
     "text": [
      "Epoch 226: |          | 50/? [00:01<00:00, 29.24it/s, v_num=1, train_loss=-2.73]"
     ]
    },
    {
     "name": "stderr",
     "output_type": "stream",
     "text": [
      "Epoch 226, global step 11350: 'train_loss' was not in top 1\n"
     ]
    },
    {
     "name": "stdout",
     "output_type": "stream",
     "text": [
      "Epoch 227: |          | 50/? [00:01<00:00, 27.79it/s, v_num=1, train_loss=-2.80]"
     ]
    },
    {
     "name": "stderr",
     "output_type": "stream",
     "text": [
      "Epoch 227, global step 11400: 'train_loss' was not in top 1\n"
     ]
    },
    {
     "name": "stdout",
     "output_type": "stream",
     "text": [
      "Epoch 228: |          | 50/? [00:01<00:00, 29.55it/s, v_num=1, train_loss=-2.77]"
     ]
    },
    {
     "name": "stderr",
     "output_type": "stream",
     "text": [
      "Epoch 228, global step 11450: 'train_loss' was not in top 1\n"
     ]
    },
    {
     "name": "stdout",
     "output_type": "stream",
     "text": [
      "Epoch 229: |          | 50/? [00:01<00:00, 29.27it/s, v_num=1, train_loss=-2.73]"
     ]
    },
    {
     "name": "stderr",
     "output_type": "stream",
     "text": [
      "Epoch 229, global step 11500: 'train_loss' was not in top 1\n"
     ]
    },
    {
     "name": "stdout",
     "output_type": "stream",
     "text": [
      "Epoch 230: |          | 50/? [00:01<00:00, 29.53it/s, v_num=1, train_loss=-2.78]"
     ]
    },
    {
     "name": "stderr",
     "output_type": "stream",
     "text": [
      "Epoch 230, global step 11550: 'train_loss' was not in top 1\n"
     ]
    },
    {
     "name": "stdout",
     "output_type": "stream",
     "text": [
      "Epoch 231: |          | 50/? [00:01<00:00, 29.51it/s, v_num=1, train_loss=-2.73]"
     ]
    },
    {
     "name": "stderr",
     "output_type": "stream",
     "text": [
      "Epoch 231, global step 11600: 'train_loss' was not in top 1\n"
     ]
    },
    {
     "name": "stdout",
     "output_type": "stream",
     "text": [
      "Epoch 232: |          | 50/? [00:01<00:00, 29.31it/s, v_num=1, train_loss=-2.76]"
     ]
    },
    {
     "name": "stderr",
     "output_type": "stream",
     "text": [
      "Epoch 232, global step 11650: 'train_loss' was not in top 1\n"
     ]
    },
    {
     "name": "stdout",
     "output_type": "stream",
     "text": [
      "Epoch 233: |          | 50/? [00:01<00:00, 27.17it/s, v_num=1, train_loss=-2.84]"
     ]
    },
    {
     "name": "stderr",
     "output_type": "stream",
     "text": [
      "Epoch 233, global step 11700: 'train_loss' was not in top 1\n"
     ]
    },
    {
     "name": "stdout",
     "output_type": "stream",
     "text": [
      "Epoch 234: |          | 50/? [00:01<00:00, 30.04it/s, v_num=1, train_loss=-2.82]"
     ]
    },
    {
     "name": "stderr",
     "output_type": "stream",
     "text": [
      "Epoch 234, global step 11750: 'train_loss' was not in top 1\n"
     ]
    },
    {
     "name": "stdout",
     "output_type": "stream",
     "text": [
      "Epoch 235: |          | 50/? [00:01<00:00, 29.36it/s, v_num=1, train_loss=-2.73]"
     ]
    },
    {
     "name": "stderr",
     "output_type": "stream",
     "text": [
      "Epoch 235, global step 11800: 'train_loss' was not in top 1\n"
     ]
    },
    {
     "name": "stdout",
     "output_type": "stream",
     "text": [
      "Epoch 236: |          | 50/? [00:01<00:00, 29.59it/s, v_num=1, train_loss=-2.76]"
     ]
    },
    {
     "name": "stderr",
     "output_type": "stream",
     "text": [
      "Epoch 236, global step 11850: 'train_loss' was not in top 1\n"
     ]
    },
    {
     "name": "stdout",
     "output_type": "stream",
     "text": [
      "Epoch 237: |          | 50/? [00:01<00:00, 29.71it/s, v_num=1, train_loss=-2.70]"
     ]
    },
    {
     "name": "stderr",
     "output_type": "stream",
     "text": [
      "Epoch 237, global step 11900: 'train_loss' was not in top 1\n"
     ]
    },
    {
     "name": "stdout",
     "output_type": "stream",
     "text": [
      "Epoch 238: |          | 50/? [00:01<00:00, 29.13it/s, v_num=1, train_loss=-2.76]"
     ]
    },
    {
     "name": "stderr",
     "output_type": "stream",
     "text": [
      "Epoch 238, global step 11950: 'train_loss' was not in top 1\n"
     ]
    },
    {
     "name": "stdout",
     "output_type": "stream",
     "text": [
      "Epoch 239: |          | 50/? [00:01<00:00, 28.15it/s, v_num=1, train_loss=-2.76]"
     ]
    },
    {
     "name": "stderr",
     "output_type": "stream",
     "text": [
      "Epoch 239, global step 12000: 'train_loss' was not in top 1\n"
     ]
    },
    {
     "name": "stdout",
     "output_type": "stream",
     "text": [
      "Epoch 240: |          | 50/? [00:01<00:00, 29.86it/s, v_num=1, train_loss=-2.76]"
     ]
    },
    {
     "name": "stderr",
     "output_type": "stream",
     "text": [
      "Epoch 240, global step 12050: 'train_loss' was not in top 1\n"
     ]
    },
    {
     "name": "stdout",
     "output_type": "stream",
     "text": [
      "Epoch 241: |          | 50/? [00:01<00:00, 29.86it/s, v_num=1, train_loss=-2.71]"
     ]
    },
    {
     "name": "stderr",
     "output_type": "stream",
     "text": [
      "Epoch 241, global step 12100: 'train_loss' was not in top 1\n"
     ]
    },
    {
     "name": "stdout",
     "output_type": "stream",
     "text": [
      "Epoch 242: |          | 50/? [00:01<00:00, 29.12it/s, v_num=1, train_loss=-2.70]"
     ]
    },
    {
     "name": "stderr",
     "output_type": "stream",
     "text": [
      "Epoch 242, global step 12150: 'train_loss' was not in top 1\n"
     ]
    },
    {
     "name": "stdout",
     "output_type": "stream",
     "text": [
      "Epoch 243: |          | 50/? [00:01<00:00, 30.30it/s, v_num=1, train_loss=-2.70]"
     ]
    },
    {
     "name": "stderr",
     "output_type": "stream",
     "text": [
      "Epoch 243, global step 12200: 'train_loss' was not in top 1\n"
     ]
    },
    {
     "name": "stdout",
     "output_type": "stream",
     "text": [
      "Epoch 244: |          | 50/? [00:01<00:00, 28.98it/s, v_num=1, train_loss=-2.70]"
     ]
    },
    {
     "name": "stderr",
     "output_type": "stream",
     "text": [
      "Epoch 244, global step 12250: 'train_loss' was not in top 1\n"
     ]
    },
    {
     "name": "stdout",
     "output_type": "stream",
     "text": [
      "Epoch 245: |          | 50/? [00:01<00:00, 29.57it/s, v_num=1, train_loss=-2.76]"
     ]
    },
    {
     "name": "stderr",
     "output_type": "stream",
     "text": [
      "Epoch 245, global step 12300: 'train_loss' was not in top 1\n"
     ]
    },
    {
     "name": "stdout",
     "output_type": "stream",
     "text": [
      "Epoch 246: |          | 50/? [00:01<00:00, 28.09it/s, v_num=1, train_loss=-2.81]"
     ]
    },
    {
     "name": "stderr",
     "output_type": "stream",
     "text": [
      "Epoch 246, global step 12350: 'train_loss' was not in top 1\n"
     ]
    },
    {
     "name": "stdout",
     "output_type": "stream",
     "text": [
      "Epoch 247: |          | 50/? [00:01<00:00, 29.57it/s, v_num=1, train_loss=-2.76]"
     ]
    },
    {
     "name": "stderr",
     "output_type": "stream",
     "text": [
      "Epoch 247, global step 12400: 'train_loss' was not in top 1\n"
     ]
    },
    {
     "name": "stdout",
     "output_type": "stream",
     "text": [
      "Epoch 248: |          | 50/? [00:01<00:00, 29.76it/s, v_num=1, train_loss=-2.74]"
     ]
    },
    {
     "name": "stderr",
     "output_type": "stream",
     "text": [
      "Epoch 248, global step 12450: 'train_loss' was not in top 1\n"
     ]
    },
    {
     "name": "stdout",
     "output_type": "stream",
     "text": [
      "Epoch 249: |          | 50/? [00:01<00:00, 29.34it/s, v_num=1, train_loss=-2.70]"
     ]
    },
    {
     "name": "stderr",
     "output_type": "stream",
     "text": [
      "Epoch 249, global step 12500: 'train_loss' was not in top 1\n"
     ]
    },
    {
     "name": "stdout",
     "output_type": "stream",
     "text": [
      "Epoch 250: |          | 50/? [00:01<00:00, 29.76it/s, v_num=1, train_loss=-2.70]"
     ]
    },
    {
     "name": "stderr",
     "output_type": "stream",
     "text": [
      "Epoch 250, global step 12550: 'train_loss' was not in top 1\n"
     ]
    },
    {
     "name": "stdout",
     "output_type": "stream",
     "text": [
      "Epoch 251: |          | 50/? [00:01<00:00, 30.33it/s, v_num=1, train_loss=-2.72]"
     ]
    },
    {
     "name": "stderr",
     "output_type": "stream",
     "text": [
      "Epoch 251, global step 12600: 'train_loss' was not in top 1\n"
     ]
    },
    {
     "name": "stdout",
     "output_type": "stream",
     "text": [
      "Epoch 252: |          | 50/? [00:01<00:00, 28.25it/s, v_num=1, train_loss=-2.83]"
     ]
    },
    {
     "name": "stderr",
     "output_type": "stream",
     "text": [
      "Epoch 252, global step 12650: 'train_loss' was not in top 1\n"
     ]
    },
    {
     "name": "stdout",
     "output_type": "stream",
     "text": [
      "Epoch 253: |          | 50/? [00:01<00:00, 29.66it/s, v_num=1, train_loss=-2.77]"
     ]
    },
    {
     "name": "stderr",
     "output_type": "stream",
     "text": [
      "Epoch 253, global step 12700: 'train_loss' was not in top 1\n"
     ]
    },
    {
     "name": "stdout",
     "output_type": "stream",
     "text": [
      "Epoch 254: |          | 50/? [00:01<00:00, 29.93it/s, v_num=1, train_loss=-2.73]"
     ]
    },
    {
     "name": "stderr",
     "output_type": "stream",
     "text": [
      "Epoch 254, global step 12750: 'train_loss' was not in top 1\n"
     ]
    },
    {
     "name": "stdout",
     "output_type": "stream",
     "text": [
      "Epoch 255: |          | 50/? [00:01<00:00, 29.77it/s, v_num=1, train_loss=-2.75]"
     ]
    },
    {
     "name": "stderr",
     "output_type": "stream",
     "text": [
      "Epoch 255, global step 12800: 'train_loss' was not in top 1\n"
     ]
    },
    {
     "name": "stdout",
     "output_type": "stream",
     "text": [
      "Epoch 256: |          | 50/? [00:01<00:00, 29.47it/s, v_num=1, train_loss=-2.79]"
     ]
    },
    {
     "name": "stderr",
     "output_type": "stream",
     "text": [
      "Epoch 256, global step 12850: 'train_loss' was not in top 1\n"
     ]
    },
    {
     "name": "stdout",
     "output_type": "stream",
     "text": [
      "Epoch 257: |          | 50/? [00:01<00:00, 29.43it/s, v_num=1, train_loss=-2.70]"
     ]
    },
    {
     "name": "stderr",
     "output_type": "stream",
     "text": [
      "Epoch 257, global step 12900: 'train_loss' was not in top 1\n"
     ]
    },
    {
     "name": "stdout",
     "output_type": "stream",
     "text": [
      "Epoch 258: |          | 50/? [00:01<00:00, 29.00it/s, v_num=1, train_loss=-2.80]"
     ]
    },
    {
     "name": "stderr",
     "output_type": "stream",
     "text": [
      "Epoch 258, global step 12950: 'train_loss' was not in top 1\n"
     ]
    },
    {
     "name": "stdout",
     "output_type": "stream",
     "text": [
      "Epoch 259: |          | 50/? [00:01<00:00, 28.26it/s, v_num=1, train_loss=-2.82]"
     ]
    },
    {
     "name": "stderr",
     "output_type": "stream",
     "text": [
      "Epoch 259, global step 13000: 'train_loss' was not in top 1\n"
     ]
    },
    {
     "name": "stdout",
     "output_type": "stream",
     "text": [
      "Epoch 260: |          | 50/? [00:01<00:00, 30.15it/s, v_num=1, train_loss=-2.70]"
     ]
    },
    {
     "name": "stderr",
     "output_type": "stream",
     "text": [
      "Epoch 260, global step 13050: 'train_loss' was not in top 1\n"
     ]
    },
    {
     "name": "stdout",
     "output_type": "stream",
     "text": [
      "Epoch 261: |          | 50/? [00:01<00:00, 29.42it/s, v_num=1, train_loss=-2.74]"
     ]
    },
    {
     "name": "stderr",
     "output_type": "stream",
     "text": [
      "Epoch 261, global step 13100: 'train_loss' was not in top 1\n"
     ]
    },
    {
     "name": "stdout",
     "output_type": "stream",
     "text": [
      "Epoch 262: |          | 50/? [00:01<00:00, 29.73it/s, v_num=1, train_loss=-2.68]"
     ]
    },
    {
     "name": "stderr",
     "output_type": "stream",
     "text": [
      "Epoch 262, global step 13150: 'train_loss' was not in top 1\n"
     ]
    },
    {
     "name": "stdout",
     "output_type": "stream",
     "text": [
      "Epoch 263: |          | 50/? [00:02<00:00, 24.00it/s, v_num=1, train_loss=-2.72]"
     ]
    },
    {
     "name": "stderr",
     "output_type": "stream",
     "text": [
      "Epoch 263, global step 13200: 'train_loss' was not in top 1\n"
     ]
    },
    {
     "name": "stdout",
     "output_type": "stream",
     "text": [
      "Epoch 264: |          | 50/? [00:01<00:00, 29.15it/s, v_num=1, train_loss=-2.72]"
     ]
    },
    {
     "name": "stderr",
     "output_type": "stream",
     "text": [
      "Epoch 264, global step 13250: 'train_loss' was not in top 1\n"
     ]
    },
    {
     "name": "stdout",
     "output_type": "stream",
     "text": [
      "Epoch 265: |          | 50/? [00:01<00:00, 28.47it/s, v_num=1, train_loss=-2.79]"
     ]
    },
    {
     "name": "stderr",
     "output_type": "stream",
     "text": [
      "Epoch 265, global step 13300: 'train_loss' was not in top 1\n"
     ]
    },
    {
     "name": "stdout",
     "output_type": "stream",
     "text": [
      "Epoch 266: |          | 50/? [00:01<00:00, 29.86it/s, v_num=1, train_loss=-2.75]"
     ]
    },
    {
     "name": "stderr",
     "output_type": "stream",
     "text": [
      "Epoch 266, global step 13350: 'train_loss' was not in top 1\n"
     ]
    },
    {
     "name": "stdout",
     "output_type": "stream",
     "text": [
      "Epoch 267: |          | 50/? [00:01<00:00, 29.84it/s, v_num=1, train_loss=-2.69]"
     ]
    },
    {
     "name": "stderr",
     "output_type": "stream",
     "text": [
      "Epoch 267, global step 13400: 'train_loss' was not in top 1\n"
     ]
    },
    {
     "name": "stdout",
     "output_type": "stream",
     "text": [
      "Epoch 268: |          | 50/? [00:01<00:00, 29.59it/s, v_num=1, train_loss=-2.74]"
     ]
    },
    {
     "name": "stderr",
     "output_type": "stream",
     "text": [
      "Epoch 268, global step 13450: 'train_loss' was not in top 1\n"
     ]
    },
    {
     "name": "stdout",
     "output_type": "stream",
     "text": [
      "Epoch 269: |          | 50/? [00:01<00:00, 29.81it/s, v_num=1, train_loss=-2.74]"
     ]
    },
    {
     "name": "stderr",
     "output_type": "stream",
     "text": [
      "Epoch 269, global step 13500: 'train_loss' was not in top 1\n"
     ]
    },
    {
     "name": "stdout",
     "output_type": "stream",
     "text": [
      "Epoch 270: |          | 50/? [00:01<00:00, 29.79it/s, v_num=1, train_loss=-2.74]"
     ]
    },
    {
     "name": "stderr",
     "output_type": "stream",
     "text": [
      "Epoch 270, global step 13550: 'train_loss' was not in top 1\n"
     ]
    },
    {
     "name": "stdout",
     "output_type": "stream",
     "text": [
      "Epoch 271: |          | 50/? [00:01<00:00, 29.12it/s, v_num=1, train_loss=-2.70]"
     ]
    },
    {
     "name": "stderr",
     "output_type": "stream",
     "text": [
      "Epoch 271, global step 13600: 'train_loss' was not in top 1\n"
     ]
    },
    {
     "name": "stdout",
     "output_type": "stream",
     "text": [
      "Epoch 272: |          | 50/? [00:01<00:00, 29.02it/s, v_num=1, train_loss=-2.82]"
     ]
    },
    {
     "name": "stderr",
     "output_type": "stream",
     "text": [
      "Epoch 272, global step 13650: 'train_loss' was not in top 1\n"
     ]
    },
    {
     "name": "stdout",
     "output_type": "stream",
     "text": [
      "Epoch 273: |          | 50/? [00:01<00:00, 29.62it/s, v_num=1, train_loss=-2.77]"
     ]
    },
    {
     "name": "stderr",
     "output_type": "stream",
     "text": [
      "Epoch 273, global step 13700: 'train_loss' was not in top 1\n"
     ]
    },
    {
     "name": "stdout",
     "output_type": "stream",
     "text": [
      "Epoch 274: |          | 50/? [00:01<00:00, 29.95it/s, v_num=1, train_loss=-2.71]"
     ]
    },
    {
     "name": "stderr",
     "output_type": "stream",
     "text": [
      "Epoch 274, global step 13750: 'train_loss' was not in top 1\n"
     ]
    },
    {
     "name": "stdout",
     "output_type": "stream",
     "text": [
      "Epoch 275: |          | 50/? [00:01<00:00, 29.28it/s, v_num=1, train_loss=-2.71]"
     ]
    },
    {
     "name": "stderr",
     "output_type": "stream",
     "text": [
      "Epoch 275, global step 13800: 'train_loss' was not in top 1\n"
     ]
    },
    {
     "name": "stdout",
     "output_type": "stream",
     "text": [
      "Epoch 276: |          | 50/? [00:01<00:00, 29.76it/s, v_num=1, train_loss=-2.68]"
     ]
    },
    {
     "name": "stderr",
     "output_type": "stream",
     "text": [
      "Epoch 276, global step 13850: 'train_loss' was not in top 1\n"
     ]
    },
    {
     "name": "stdout",
     "output_type": "stream",
     "text": [
      "Epoch 277: |          | 50/? [00:01<00:00, 29.64it/s, v_num=1, train_loss=-2.71]"
     ]
    },
    {
     "name": "stderr",
     "output_type": "stream",
     "text": [
      "Epoch 277, global step 13900: 'train_loss' was not in top 1\n"
     ]
    },
    {
     "name": "stdout",
     "output_type": "stream",
     "text": [
      "Epoch 278: |          | 50/? [00:01<00:00, 29.57it/s, v_num=1, train_loss=-2.78]"
     ]
    },
    {
     "name": "stderr",
     "output_type": "stream",
     "text": [
      "Epoch 278, global step 13950: 'train_loss' was not in top 1\n"
     ]
    },
    {
     "name": "stdout",
     "output_type": "stream",
     "text": [
      "Epoch 279: |          | 50/? [00:01<00:00, 28.45it/s, v_num=1, train_loss=-2.87]"
     ]
    },
    {
     "name": "stderr",
     "output_type": "stream",
     "text": [
      "Epoch 279, global step 14000: 'train_loss' was not in top 1\n"
     ]
    },
    {
     "name": "stdout",
     "output_type": "stream",
     "text": [
      "Epoch 280: |          | 50/? [00:01<00:00, 30.29it/s, v_num=1, train_loss=-2.76]"
     ]
    },
    {
     "name": "stderr",
     "output_type": "stream",
     "text": [
      "Epoch 280, global step 14050: 'train_loss' was not in top 1\n"
     ]
    },
    {
     "name": "stdout",
     "output_type": "stream",
     "text": [
      "Epoch 281: |          | 50/? [00:01<00:00, 29.64it/s, v_num=1, train_loss=-2.77]"
     ]
    },
    {
     "name": "stderr",
     "output_type": "stream",
     "text": [
      "Epoch 281, global step 14100: 'train_loss' was not in top 1\n"
     ]
    },
    {
     "name": "stdout",
     "output_type": "stream",
     "text": [
      "Epoch 282: |          | 50/? [00:01<00:00, 29.34it/s, v_num=1, train_loss=-2.70]"
     ]
    },
    {
     "name": "stderr",
     "output_type": "stream",
     "text": [
      "Epoch 282, global step 14150: 'train_loss' was not in top 1\n"
     ]
    },
    {
     "name": "stdout",
     "output_type": "stream",
     "text": [
      "Epoch 283: |          | 50/? [00:01<00:00, 29.87it/s, v_num=1, train_loss=-2.73]"
     ]
    },
    {
     "name": "stderr",
     "output_type": "stream",
     "text": [
      "Epoch 283, global step 14200: 'train_loss' was not in top 1\n"
     ]
    },
    {
     "name": "stdout",
     "output_type": "stream",
     "text": [
      "Epoch 284: |          | 50/? [00:01<00:00, 30.82it/s, v_num=1, train_loss=-2.70]"
     ]
    },
    {
     "name": "stderr",
     "output_type": "stream",
     "text": [
      "Epoch 284, global step 14250: 'train_loss' was not in top 1\n"
     ]
    },
    {
     "name": "stdout",
     "output_type": "stream",
     "text": [
      "Epoch 285: |          | 50/? [00:01<00:00, 29.19it/s, v_num=1, train_loss=-2.71]"
     ]
    },
    {
     "name": "stderr",
     "output_type": "stream",
     "text": [
      "Epoch 285, global step 14300: 'train_loss' was not in top 1\n"
     ]
    },
    {
     "name": "stdout",
     "output_type": "stream",
     "text": [
      "Epoch 286: |          | 50/? [00:01<00:00, 28.26it/s, v_num=1, train_loss=-2.77]"
     ]
    },
    {
     "name": "stderr",
     "output_type": "stream",
     "text": [
      "Epoch 286, global step 14350: 'train_loss' was not in top 1\n"
     ]
    },
    {
     "name": "stdout",
     "output_type": "stream",
     "text": [
      "Epoch 287: |          | 50/? [00:01<00:00, 30.24it/s, v_num=1, train_loss=-2.69]"
     ]
    },
    {
     "name": "stderr",
     "output_type": "stream",
     "text": [
      "Epoch 287, global step 14400: 'train_loss' was not in top 1\n"
     ]
    },
    {
     "name": "stdout",
     "output_type": "stream",
     "text": [
      "Epoch 288: |          | 50/? [00:01<00:00, 29.78it/s, v_num=1, train_loss=-2.73]"
     ]
    },
    {
     "name": "stderr",
     "output_type": "stream",
     "text": [
      "Epoch 288, global step 14450: 'train_loss' was not in top 1\n"
     ]
    },
    {
     "name": "stdout",
     "output_type": "stream",
     "text": [
      "Epoch 289: |          | 50/? [00:01<00:00, 29.91it/s, v_num=1, train_loss=-2.77]"
     ]
    },
    {
     "name": "stderr",
     "output_type": "stream",
     "text": [
      "Epoch 289, global step 14500: 'train_loss' was not in top 1\n"
     ]
    },
    {
     "name": "stdout",
     "output_type": "stream",
     "text": [
      "Epoch 290: |          | 50/? [00:01<00:00, 29.78it/s, v_num=1, train_loss=-2.70]"
     ]
    },
    {
     "name": "stderr",
     "output_type": "stream",
     "text": [
      "Epoch 290, global step 14550: 'train_loss' was not in top 1\n"
     ]
    },
    {
     "name": "stdout",
     "output_type": "stream",
     "text": [
      "Epoch 291: |          | 50/? [00:01<00:00, 30.25it/s, v_num=1, train_loss=-2.73]"
     ]
    },
    {
     "name": "stderr",
     "output_type": "stream",
     "text": [
      "Epoch 291, global step 14600: 'train_loss' was not in top 1\n"
     ]
    },
    {
     "name": "stdout",
     "output_type": "stream",
     "text": [
      "Epoch 292: |          | 50/? [00:01<00:00, 28.85it/s, v_num=1, train_loss=-2.74]"
     ]
    },
    {
     "name": "stderr",
     "output_type": "stream",
     "text": [
      "Epoch 292, global step 14650: 'train_loss' was not in top 1\n"
     ]
    },
    {
     "name": "stdout",
     "output_type": "stream",
     "text": [
      "Epoch 293: |          | 50/? [00:01<00:00, 28.54it/s, v_num=1, train_loss=-2.81]"
     ]
    },
    {
     "name": "stderr",
     "output_type": "stream",
     "text": [
      "Epoch 293, global step 14700: 'train_loss' was not in top 1\n"
     ]
    },
    {
     "name": "stdout",
     "output_type": "stream",
     "text": [
      "Epoch 294: |          | 50/? [00:01<00:00, 30.02it/s, v_num=1, train_loss=-2.78]"
     ]
    },
    {
     "name": "stderr",
     "output_type": "stream",
     "text": [
      "Epoch 294, global step 14750: 'train_loss' was not in top 1\n"
     ]
    },
    {
     "name": "stdout",
     "output_type": "stream",
     "text": [
      "Epoch 295: |          | 50/? [00:01<00:00, 30.10it/s, v_num=1, train_loss=-2.76]"
     ]
    },
    {
     "name": "stderr",
     "output_type": "stream",
     "text": [
      "Epoch 295, global step 14800: 'train_loss' was not in top 1\n"
     ]
    },
    {
     "name": "stdout",
     "output_type": "stream",
     "text": [
      "Epoch 296: |          | 50/? [00:01<00:00, 29.56it/s, v_num=1, train_loss=-2.81]"
     ]
    },
    {
     "name": "stderr",
     "output_type": "stream",
     "text": [
      "Epoch 296, global step 14850: 'train_loss' was not in top 1\n"
     ]
    },
    {
     "name": "stdout",
     "output_type": "stream",
     "text": [
      "Epoch 297: |          | 50/? [00:01<00:00, 29.70it/s, v_num=1, train_loss=-2.72]"
     ]
    },
    {
     "name": "stderr",
     "output_type": "stream",
     "text": [
      "Epoch 297, global step 14900: 'train_loss' was not in top 1\n"
     ]
    },
    {
     "name": "stdout",
     "output_type": "stream",
     "text": [
      "Epoch 298: |          | 50/? [00:01<00:00, 29.25it/s, v_num=1, train_loss=-2.73]"
     ]
    },
    {
     "name": "stderr",
     "output_type": "stream",
     "text": [
      "Epoch 298, global step 14950: 'train_loss' was not in top 1\n"
     ]
    },
    {
     "name": "stdout",
     "output_type": "stream",
     "text": [
      "Epoch 299: |          | 50/? [00:01<00:00, 29.25it/s, v_num=1, train_loss=-2.82]"
     ]
    },
    {
     "name": "stderr",
     "output_type": "stream",
     "text": [
      "Epoch 299, global step 15000: 'train_loss' was not in top 1\n",
      "`Trainer.fit` stopped: `max_epochs=300` reached.\n"
     ]
    },
    {
     "name": "stdout",
     "output_type": "stream",
     "text": [
      "Epoch 299: |          | 50/? [00:01<00:00, 29.09it/s, v_num=1, train_loss=-2.82]\n"
     ]
    }
   ],
   "source": [
    "def time_to_timedelta(time_obj):\n",
    "    return timedelta(hours=time_obj.hour, minutes=time_obj.minute, seconds=time_obj.second, microseconds=time_obj.microsecond)\n",
    "\n",
    "now = datetime.now()\n",
    "current_time = now.strftime(\"%H:%M:%S\")\n",
    "print(f\"\\nReading csv...:  {current_time}\")\n",
    "df = pd.read_feather('preprocessed_dataset.feather')\n",
    "now = datetime.now()\n",
    "current_time = now.strftime(\"%H:%M:%S\")\n",
    "print(f\"\\nLoaded...:  {current_time}\")\n",
    "\n",
    "data2 = pd.DataFrame()\n",
    "\n",
    "#Cada id fa referència a una seccio censal\n",
    "id = df['id']\n",
    "consum = df['consum']\n",
    "temps = df['temps']\n",
    "\n",
    "data = {'id': id, 'consum': consum, 'temps': temps}\n",
    "\n",
    "data2 = pd.DataFrame(data) \n",
    "day='2022-01-01' #75% train aprox\n",
    "train = data2.loc[data2['temps'] < datetime.strptime(day, \"%Y-%m-%d\")]\n",
    "valid = data2.loc[data2['temps'] >= datetime.strptime(day, \"%Y-%m-%d\")]\n",
    "\n",
    "mean = np.mean(train[\"consum\"])\n",
    "std = np.std(train[\"consum\"])\n",
    "\n",
    "train[\"consum\"] = train[\"consum\"].divide(mean+std)\n",
    "\n",
    "train_ds = PandasDataset.from_long_dataframe(train, target='consum', item_id='id', timestamp='temps', freq='D')\n",
    "\n",
    "estimator = DeepAREstimator(freq='W', context_length=28, prediction_length=1, num_layers=5, trainer_kwargs={'accelerator': 'gpu', 'max_epochs':300})\n",
    "\n",
    "predictor = estimator.train(training_data=train_ds, num_workers=2)\n",
    "\n",
    "#predictor.serialize(Path(\"checkpoints_sol_compt_freq_W_28_1_new\"))"
   ]
  },
  {
   "cell_type": "markdown",
   "metadata": {},
   "source": [
    "## 1.3 Prediction\n",
    "Once the model has been trained, we use it to make predictions. Specifically, we predict what the water consumption will be for each census section on the future day. This daily consumption prediction is what we will consider to optimize water management. The consumption prediction for one day for each census section is stored in the \"predictions\" vector."
   ]
  },
  {
   "cell_type": "code",
   "execution_count": 10,
   "metadata": {},
   "outputs": [],
   "source": [
    "\n",
    "pred = list(predictor.predict(train_ds))\n",
    "\n",
    "all_preds = list()\n",
    "valid_aux = valid.reset_index(drop = True)\n",
    "aux = 0\n",
    "for i, item in enumerate(pred):\n",
    "    id = float(item.item_id)\n",
    "    while id<valid_aux['id'][aux]:\n",
    "        id = id + 1\n",
    "    p = item.samples.mean(axis=0)\n",
    "    p10 = np.percentile(item.samples, 10, axis=0)\n",
    "    p90 = np.percentile(item.samples, 90, axis=0)\n",
    "    temps = pd.date_range(start=valid[valid['id']==id]['temps'].iloc[0], periods=len(p), freq='D')\n",
    "    id_pred = pd.DataFrame({'temps': temps, 'id': id, 'pred': p*(mean+std), 'p10': p10*(mean+std), 'p90': p90*(mean+std)})\n",
    "    all_preds += [id_pred]\n",
    "    aux = valid_aux[valid_aux['id']==id].index[-1]\n",
    "    if i != len(pred)-2:\n",
    "        aux = aux+1\n",
    "all_preds = pd.concat(all_preds, ignore_index=True)\n",
    "all_preds = all_preds.merge(valid, on=['temps', 'id'], how='left')\n",
    "\n",
    "predictions = all_preds[all_preds[\"temps\"] == datetime(year=2022, month = 1, day =1)][\"pred\"]"
   ]
  },
  {
   "cell_type": "markdown",
   "metadata": {},
   "source": [
    "To evaluate the performance of the prediction, we use Mean Absolute Percentage Error (MAPE)."
   ]
  },
  {
   "cell_type": "code",
   "execution_count": 11,
   "metadata": {},
   "outputs": [
    {
     "name": "stdout",
     "output_type": "stream",
     "text": [
      "0.12273136555299906\n"
     ]
    }
   ],
   "source": [
    "def mape(y_true, y_pred):\n",
    "    # if np.abs(y_true).sum() == 0:\n",
    "    #     return np.abs(y_true - y_pred).sum()\n",
    "    return np.abs(y_true - y_pred).sum() / np.abs(y_true).sum()\n",
    "\n",
    "print(mape(all_preds['consum'], all_preds['pred']))"
   ]
  },
  {
   "cell_type": "markdown",
   "metadata": {},
   "source": [
    "# Section 2 : Water distribution optimization"
   ]
  },
  {
   "cell_type": "markdown",
   "metadata": {},
   "source": [
    "## 2.1 Map parameter preparation\n",
    "We present the results of the optimization on an interactive map. Below, we define the classes, parameters, and methods that will allow us to create the interactive map:"
   ]
  },
  {
   "cell_type": "code",
   "execution_count": 15,
   "metadata": {},
   "outputs": [],
   "source": [
    "class cons:\n",
    "    class files:\n",
    "        PROCESSED_DATA_PATH=\"data\"\n",
    "        dataset_consum=PROCESSED_DATA_PATH+\"/dataset1_v2.csv\" #DATASET ABDATACHALLENGE\n",
    "        cens=PROCESSED_DATA_PATH+\"/seccionado_2023/Espana_Seccionado2023_ETRS89H30/SECC_CE_20230101.shp\"#INE\n",
    "        output_information_seccions_censals=PROCESSED_DATA_PATH+\"/information_seccions_censals.csv\"\n",
    "        output_full_ds_consum=PROCESSED_DATA_PATH+\"/ds_consum_processed\"\n",
    "        output_cost_matrix = PROCESSED_DATA_PATH+\"/cost_matrix.csv\"\n",
    "        \n",
    "    class variables:\n",
    "        comarques_properes=[\"Barcelonès\", \"Vallès Occidental\", \"Baix Llobregat\", \"Granollers\", \"Mataró\", \"Vilafranca del Penedès\", \"Vilanova i la Geltru\"]\n",
    "        etaps=[\n",
    "            {\"NOM\": \"ETAP Sant Joan Despí\", \"CAPACITAT AIGUA DIARIA(L)\": 6300*3600*24, \"Height(m)\": 17,\"geometry\": Point(2.049638990849189, 41.352543052311276)},\n",
    "            {\"NOM\": \"ETAP Les Estrelles\", \"CAPACITAT AIGUA DIARIA(L)\": 1000*3600*24, \"Height(m)\": 20, \"geometry\": Point(2.032547427221537, 41.38142779524456)},\n",
    "            {\"NOM\": \"ETAP El Besòs\", \"CAPACITAT AIGUA DIARIA(L)\": 370*3600*24, \"Height(m)\": 29, \"geometry\": Point(2.1900789845100976, 41.45640249032101)},\n",
    "            {\"NOM\": \"ETAP La Llagosta\", \"CAPACITAT AIGUA DIARIA(L)\": 140*3600*24, \"Height(m)\": 41, \"geometry\": Point(2.198983971296007, 41.5037905977055)}\n",
    "        ]#Memoria Explotacio AB 2022\n",
    "\n",
    "    class energy_constants:\n",
    "        nu=0.8\n",
    "        g=9.81\n",
    "        ro=1000\n",
    "        f=0.8\n",
    "        Tdia=12*3600\n",
    "        mu=0.0012\n",
    "        vel = 2\n",
    "\n",
    "def sample_polygon(polygon, n_points_border, n_points_inside):\n",
    "    min_x, min_y, max_x, max_y = polygon.bounds\n",
    "    points = []\n",
    "\n",
    "    side_length = np.sqrt((polygon.area / n_points_inside))\n",
    "    x_points = int((max_x - min_x) / side_length)\n",
    "    y_points = int((max_y - min_y) / side_length)\n",
    "\n",
    "    for i in range(x_points):\n",
    "        for j in range(y_points):\n",
    "            x = min_x + (i + 0.5) * side_length\n",
    "            y = min_y + (j + 0.5) * side_length\n",
    "            point = Point(x, y)\n",
    "            if polygon.contains(point):\n",
    "                points.append(point)\n",
    "                if len(points) == n_points_inside:\n",
    "                    break\n",
    "    \n",
    "    bound=np.linspace(0,1,n_points_border+1)[:-1]\n",
    "    return points+[polygon.exterior.interpolate(t, normalized=True) for t in bound]\n",
    "\n",
    "def height_point(point):\n",
    "    latitud = point.y\n",
    "    longitud = point.x\n",
    "    geolocalizador = Nominatim(user_agent=\"calculo_altitud\")\n",
    "\n",
    "    url = f\"https://api.opentopodata.org/v1/srtm90m?locations={latitud},{longitud}\"\n",
    "\n",
    "    response = requests.get(url)\n",
    "    \n",
    "    while(response.status_code != 200):\n",
    "        response = requests.get(url)\n",
    "        \n",
    "    data = response.json()\n",
    "    altitud = data['results'][0]['elevation']\n",
    "    return altitud\n",
    "\n",
    "def mean_height(polygon, n_points_border, n_points_inside):\n",
    "    if isinstance(polygon, Polygon):\n",
    "        points=sample_polygon(polygon,n_points_border, n_points_inside)\n",
    "    else:\n",
    "        points=[]\n",
    "        for p in polygon.geoms:\n",
    "            points+=sample_polygon(p,n_points_border, n_points_inside)\n",
    "    \n",
    "    heights=[height_point(point) for point in points]\n",
    "    return sum(heights)/len(heights)\n",
    "\n",
    "def distancia(coordA, coordB):\n",
    "    if not isinstance(coordA, Point) or not isinstance(coordA, Point):\n",
    "        raise TypeError(\"Input must be a tuple of Latitude and Longitude.\")\n",
    "    return distance.distance((coordA.y, coordA.x), (coordB.y, coordB.x)).m"
   ]
  },
  {
   "cell_type": "markdown",
   "metadata": {},
   "source": [
    "## 2.2 Census Sections\n",
    "\n",
    "Extracting information census code (time-consuming function, don't run if not necessary):"
   ]
  },
  {
   "cell_type": "code",
   "execution_count": 16,
   "metadata": {},
   "outputs": [
    {
     "name": "stderr",
     "output_type": "stream",
     "text": [
      "0it [00:00, ?it/s]\n"
     ]
    }
   ],
   "source": [
    "#Obtaining all the possible polygons based on the censal code\n",
    "cens=gpd.read_file(cons.files.cens)\n",
    "cens=cens[cens[\"NPRO\"]==\"Barcelona\"]\n",
    "seccions_censals_all={}\n",
    "for num in cens.iterrows():\n",
    "    seccions_censals_all[int(num[1][\"CUSEC\"])]=gpd.GeoDataFrame(geometry=[num[1][\"geometry\"]], crs=\"epsg:25830\").to_crs(epsg=4326)[\"geometry\"][0]\n",
    "\n",
    "#Obtaining the necessary censal codes to calculate to know the corresponding mean height of the region\n",
    "ds_consum = pd.read_csv(cons.files.dataset_consum)\n",
    "seccions_censals_full_list=list(ds_consum[\"Secció Censal/Sección censal/Census section\"])\n",
    "seccions_censals_full_list=[int(x) for x in seccions_censals_full_list if not math.isnan(x)]\n",
    "seccions_censals_necesaries=list(set(seccions_censals_full_list))\n",
    "\n",
    "#Checking the already saved data\n",
    "saved_df=pd.read_csv(cons.files.output_information_seccions_censals)\n",
    "seccions_censals_necesaries=list(set(seccions_censals_necesaries)-set(saved_df[\"Seccio Censal\"]))\n",
    "\n",
    "#Setting the saved data\n",
    "seccions=list(saved_df[\"Seccio Censal\"])\n",
    "heights=list(saved_df[\"Height\"])\n",
    "centroids=list(saved_df[\"Centroid\"])\n",
    "geometries=list(saved_df[\"geometry\"])\n",
    "\n",
    "for seccio_censal in tqdm(seccions_censals_necesaries):\n",
    "    polygon=seccions_censals_all[seccio_censal]\n",
    "    seccions.append(seccio_censal)\n",
    "    geometries.append(polygon)\n",
    "    heights.append(mean_height(polygon,n_points_border=20, n_points_inside=20))\n",
    "    centroids.append(polygon.centroid)\n",
    "    seccions_censals_final_gdf=gpd.GeoDataFrame({\n",
    "        \"Seccio Censal\" : seccions,\n",
    "        \"Height\": heights,\n",
    "        \"Centroid\": centroids,\n",
    "        \"geometry\": geometries \n",
    "    })\n",
    "    seccions_censals_final_gdf.to_csv(cons.files.output_information_seccions_censals, index=False)"
   ]
  },
  {
   "cell_type": "markdown",
   "metadata": {},
   "source": [
    "## 2.3 Saving data of census sections"
   ]
  },
  {
   "cell_type": "code",
   "execution_count": 34,
   "metadata": {},
   "outputs": [
    {
     "name": "stdout",
     "output_type": "stream",
     "text": [
      "Loaded!\n"
     ]
    },
    {
     "name": "stderr",
     "output_type": "stream",
     "text": [
      "100%|██████████| 1397/1397 [00:09<00:00, 142.74it/s]\n"
     ]
    }
   ],
   "source": [
    "cens_codes_information=pd.read_csv(cons.files.output_information_seccions_censals)\n",
    "ds_consum_filtered = pd.read_csv(cons.files.dataset_consum)\n",
    "\n",
    "print(\"Loaded!\")\n",
    "# Filtro por días\n",
    "# day=\"2019-01-02\"\n",
    "# ds_consum_filtered=ds_consum[ds_consum[\"Data/Fecha/Date\"]==day]\n",
    "\n",
    "ds_consum_filtered=ds_consum_filtered[ds_consum_filtered[\"Consum acumulat (L/dia)/Consumo acumulado(L/día)/Accumulated Consumption (L/day)\"]>0]\n",
    "ds_consum_filtered=ds_consum_filtered.dropna(subset=[\"Secció Censal/Sección censal/Census section\"])\n",
    "\n",
    "seccions_censals_necesaries=[int(x) for x in set(ds_consum_filtered[\"Secció Censal/Sección censal/Census section\"])]\n",
    "codis_postals=[]\n",
    "municipis=[]\n",
    "usos=[]\n",
    "nombre_comptadors=[]\n",
    "consums_acumulats=[]\n",
    "heights=[]\n",
    "centroids=[]\n",
    "geometries=[]\n",
    "for seccio_censal in tqdm(seccions_censals_necesaries):\n",
    "    selected_seccio=ds_consum_filtered[ds_consum_filtered[\"Secció Censal/Sección censal/Census section\"]==seccio_censal]\n",
    "    codis_postals.append(selected_seccio[\"Codi postal/Código postal/Postcode\"].values[0])\n",
    "    municipis.append(selected_seccio['Municipi/Municipio/Municipality'].values[0])\n",
    "    if len(selected_seccio['Ús/Uso/Use'].values)>1:\n",
    "        usos.append(\"/\".join([i.split(\"/\")[0] for i in selected_seccio['Ús/Uso/Use'].values]))\n",
    "    else:\n",
    "        usos.append((selected_seccio['Ús/Uso/Use'].values[0]).split(\"/\")[0])\n",
    "    nombre_comptadors.append(selected_seccio['Nombre de comptadors/Número de contadores/Number of meters'].values.sum())\n",
    "    consums_acumulats.append(selected_seccio[\"Consum acumulat (L/dia)/Consumo acumulado(L/día)/Accumulated Consumption (L/day)\"].values.sum())\n",
    "    heights.append(cens_codes_information[cens_codes_information[\"Seccio Censal\"]==seccio_censal][\"Height\"].values[0])\n",
    "    centroids.append(cens_codes_information[cens_codes_information[\"Seccio Censal\"]==seccio_censal][\"Centroid\"].values[0])\n",
    "    geometries.append(loads(cens_codes_information[cens_codes_information[\"Seccio Censal\"]==seccio_censal][\"geometry\"].values[0]))\n",
    "\n",
    "a=gpd.GeoDataFrame({\n",
    "    \"Seccio Censal\":seccions_censals_necesaries,\n",
    "    \"Codi Postal\":codis_postals,\n",
    "    \"Municipi\":municipis,\n",
    "    \"Us\":usos,\n",
    "    \"Nombre Comptadors\":nombre_comptadors,\n",
    "    \"Consum(L/dia)\":consums_acumulats,\n",
    "    \"Height(m)\": heights,\n",
    "    \"Centroid\": centroids,\n",
    "    \"geometry\": geometries\n",
    "}).to_file(cons.files.output_full_ds_consum+\".geojson\", index=False, driver=\"GeoJSON\")\n",
    "# .to_file(cons.files.output_full_ds_consum+\"_total.geojson\", index=False, driver=\"GeoJSON\")\n",
    "\n",
    "# Para guardarlo con días"
   ]
  },
  {
   "cell_type": "markdown",
   "metadata": {},
   "source": [
    "## 2.4 Cost function\n",
    "\n",
    "Establish an energy cost for transporting water from the water treatment plants to the various census sections:\n",
    "\n",
    "<img src=\"foto3.png\" alt=\"Ecuació bàsica\" width=\"30%\"/>\n",
    "\n",
    "Applying the Darcy-Weisbach equation:\n",
    "\n",
    "<img src=\"foto4.png\" alt=\"Ecuació Darcy-Weisbach\" width=\"50%\"/>\n",
    "\n",
    "By substituting, we arrive at the developed cost function:\n",
    "\n",
    "<img src=\"foto1.png\" alt=\"Ecuació desenvolupada\" width=\"50%\"/>\n",
    "\n",
    "The cost function is composed of various parameters aimed at providing an accurate representation of the real cost:\n",
    "\n",
    "<img src=\"foto2.png\" alt=\"Paràmetres\" width=\"50%\"/>\n",
    "\n"
   ]
  },
  {
   "cell_type": "code",
   "execution_count": 35,
   "metadata": {},
   "outputs": [],
   "source": [
    "def calculate_energy_consumption(generator, client, height_generator, height_client, water_volume):\n",
    "    delta_L=distancia(generator, client)\n",
    "    delta_h=height_client-height_generator\n",
    "    const=cons.energy_constants\n",
    "    \n",
    "    Ec = const.nu*(const.ro*water_volume/1000*const.g*delta_h+8*const.mu*const.vel*(delta_L**2)*math.pi)\n",
    "\n",
    "    if Ec<0:\n",
    "        return 0\n",
    "    else:\n",
    "        return Ec/(3.6e6*water_volume)\n",
    "    \n",
    "def calculate_production_cost():\n",
    "    return"
   ]
  },
  {
   "cell_type": "markdown",
   "metadata": {},
   "source": [
    "Compute the cost matrix that relates each Water Treatment Station (WTS) to each census section:"
   ]
  },
  {
   "cell_type": "code",
   "execution_count": 36,
   "metadata": {},
   "outputs": [],
   "source": [
    "gds_etaps=gpd.GeoDataFrame(cons.variables.etaps)\n",
    "gds_consum=gpd.read_file(cons.files.output_full_ds_consum+\".geojson\")\n",
    "\n",
    "consum_matrix = np.empty((len(gds_consum),len(gds_etaps)))\n",
    "for i, etap in gds_etaps.iterrows():\n",
    "    for j, seccion in gds_consum.iterrows():\n",
    "        # etap=etap[1]\n",
    "        # seccion=seccion[1]\n",
    "        nombres_etaps = etap\n",
    "\n",
    "        consum_matrix[j][i] = calculate_energy_consumption(etap[\"geometry\"], loads(seccion[\"Centroid\"]), etap[\"Height(m)\"], seccion[\"Height(m)\"], seccion[\"Consum(L/dia)\"])      \n",
    "\n",
    "gds_etaps[\"NOM\"].values\n",
    "df = pd.DataFrame(consum_matrix, index=gds_consum[\"Seccio Censal\"].values, columns=gds_etaps[\"NOM\"].values)\n",
    "df.to_csv(cons.files.output_cost_matrix)"
   ]
  },
  {
   "cell_type": "markdown",
   "metadata": {},
   "source": [
    "Load:"
   ]
  },
  {
   "cell_type": "code",
   "execution_count": 37,
   "metadata": {},
   "outputs": [
    {
     "data": {
      "text/html": [
       "<div>\n",
       "<style scoped>\n",
       "    .dataframe tbody tr th:only-of-type {\n",
       "        vertical-align: middle;\n",
       "    }\n",
       "\n",
       "    .dataframe tbody tr th {\n",
       "        vertical-align: top;\n",
       "    }\n",
       "\n",
       "    .dataframe thead th {\n",
       "        text-align: right;\n",
       "    }\n",
       "</style>\n",
       "<table border=\"1\" class=\"dataframe\">\n",
       "  <thead>\n",
       "    <tr style=\"text-align: right;\">\n",
       "      <th></th>\n",
       "      <th>ETAP Sant Joan Despí</th>\n",
       "      <th>ETAP Les Estrelles</th>\n",
       "      <th>ETAP El Besòs</th>\n",
       "      <th>ETAP La Llagosta</th>\n",
       "    </tr>\n",
       "  </thead>\n",
       "  <tbody>\n",
       "    <tr>\n",
       "      <th>819405001</th>\n",
       "      <td>0.000000</td>\n",
       "      <td>0.000000</td>\n",
       "      <td>0.000000</td>\n",
       "      <td>0.000000</td>\n",
       "    </tr>\n",
       "    <tr>\n",
       "      <th>819405002</th>\n",
       "      <td>0.000000</td>\n",
       "      <td>0.000000</td>\n",
       "      <td>0.000000</td>\n",
       "      <td>0.000000</td>\n",
       "    </tr>\n",
       "    <tr>\n",
       "      <th>819405003</th>\n",
       "      <td>0.000000</td>\n",
       "      <td>0.000000</td>\n",
       "      <td>0.000000</td>\n",
       "      <td>0.000000</td>\n",
       "    </tr>\n",
       "    <tr>\n",
       "      <th>819405004</th>\n",
       "      <td>0.000000</td>\n",
       "      <td>0.000000</td>\n",
       "      <td>0.000000</td>\n",
       "      <td>0.000000</td>\n",
       "    </tr>\n",
       "    <tr>\n",
       "      <th>801907001</th>\n",
       "      <td>0.000169</td>\n",
       "      <td>0.000163</td>\n",
       "      <td>0.000143</td>\n",
       "      <td>0.000117</td>\n",
       "    </tr>\n",
       "  </tbody>\n",
       "</table>\n",
       "</div>"
      ],
      "text/plain": [
       "           ETAP Sant Joan Despí  ETAP Les Estrelles  ETAP El Besòs  \\\n",
       "819405001              0.000000            0.000000       0.000000   \n",
       "819405002              0.000000            0.000000       0.000000   \n",
       "819405003              0.000000            0.000000       0.000000   \n",
       "819405004              0.000000            0.000000       0.000000   \n",
       "801907001              0.000169            0.000163       0.000143   \n",
       "\n",
       "           ETAP La Llagosta  \n",
       "819405001          0.000000  \n",
       "819405002          0.000000  \n",
       "819405003          0.000000  \n",
       "819405004          0.000000  \n",
       "801907001          0.000117  "
      ]
     },
     "execution_count": 37,
     "metadata": {},
     "output_type": "execute_result"
    }
   ],
   "source": [
    "\n",
    "df1 = pd.read_csv(cons.files.output_cost_matrix,index_col=0)\n",
    "df1.head()"
   ]
  },
  {
   "cell_type": "markdown",
   "metadata": {},
   "source": [
    "# Section 3: PSO Execution\n",
    "This iterative metaheuristic algorithm based on evolutionary intelligence was first proposed by Kennedy et al. in [1] and is based on the social behavior of certain flocks of birds to optimize complex mathematical problems.\n",
    "\n",
    "The algorithm is based on particles, which have a position representing a specific solution among all possible solutions to the optimization problem, and a velocity that describes how this solution evolves over the iterations of the algorithm. A swarm consists of a set of particles, and all the particles in the swarm explore different possible solutions together. The algorithm also includes a mechanism that updates the velocity at each iteration, modifying it so that the particles gradually converge towards the best solutions found so far.\n",
    "\n",
    "In our specific case, the optimization problem involves deciding, based on the water demand predictions for each census section made by the predictor, how much of this demand is met by each water resource (in our case, WTSs). It is worth noting that the parameters, variables, and constraints are fully adaptable. If data were available, the optimization could even be performed at the meter level, and the water resources can also be changed and adapted.\n",
    "\n",
    "<img src=\"ParticleSwarmArrowsAnimation.gif\" alt=\"Computer man\" style=\"width:50%;\">\n",
    "\n",
    "\n",
    "[1] J. Kennedy and R. Eberhart, \"Particle swarm optimization,\" Proceedings of ICNN'95 - International Conference on Neural Networks, Perth, WA, Australia, 1995, pp. 1942-1948 vol.4, doi: 10.1109/ICNN.1995.488968."
   ]
  },
  {
   "cell_type": "markdown",
   "metadata": {},
   "source": [
    "## 3.1 Functions"
   ]
  },
  {
   "cell_type": "code",
   "execution_count": 38,
   "metadata": {},
   "outputs": [],
   "source": [
    "def f_v2(variables, costos):\n",
    "    \"Objective function\"\n",
    "    # Variables = matrix of liters distributed from each etap to each censal section\n",
    "    return np.sum(np.multiply(variables,costos)) \n",
    "    \n",
    "\n",
    "def check_availability_constraints(litres, capacitats):\n",
    "    rec_used = np.sum(litres, axis=0)\n",
    "    if np.any(np.greater(rec_used, capacitats)):\n",
    "        return False\n",
    "    return True\n",
    "\n",
    "\n",
    "def fix_availability_constraints(litres, capacitats):\n",
    "    rec_used = np.sum(litres, axis=0)\n",
    "    available_rec = capacitats - rec_used\n",
    "    available_rec[np.where(available_rec < 0)] = 0\n",
    "\n",
    "    litres_to_fix = np.zeros_like(rec_used)\n",
    "    litres_to_sum = np.zeros_like(rec_used)\n",
    "    constraint_violation = np.where(rec_used > capacitats)\n",
    "    litres_to_fix[constraint_violation] = rec_used[constraint_violation] - capacitats[constraint_violation]\n",
    "\n",
    "    for rec in available_rec[np.where(available_rec > 0)]:\n",
    "        while len(np.where(litres_to_fix > 0)[0]) > 0 and rec > 0:\n",
    "            if litres_to_fix[np.where(litres_to_fix > 0)[0][0]] <= rec:\n",
    "                litres_to_sum[np.where(available_rec == rec)[0]] = litres_to_fix[np.where(litres_to_fix > 0)[0][0]]\n",
    "                litres_to_sum_aux = litres_to_sum[np.where(available_rec == rec)[0]]\n",
    "                available_rec[np.where(available_rec == rec)[0]] = rec - litres_to_sum_aux\n",
    "                rec = rec - litres_to_sum_aux\n",
    "\n",
    "                ordered_litres = np.sort(litres[:,np.where(litres_to_fix > 0)[0][0]])[::-1]\n",
    "                ordered_ids = np.argsort(litres[:,np.where(litres_to_fix > 0)[0][0]])[::-1]\n",
    "                quant_to_substract = litres_to_sum[np.where(available_rec == rec)[0]]\n",
    "\n",
    "                for idx,quant in enumerate(ordered_litres):\n",
    "                    quant_to_substract -= quant\n",
    "                    litres[ordered_ids[idx],np.where(litres_to_fix > 0)[0][0]] -= quant\n",
    "                    if quant_to_substract == 0:\n",
    "                        break\n",
    "                # litres[:,np.where(litres_to_fix > 0)[0][0]] -= litres_to_sum[np.where(available_rec == rec)[0]]/len(litres[:,np.where(litres_to_fix > 0)[0][0]])\n",
    "                litres[:, np.where(available_rec == rec)[0]] += litres_to_sum[np.where(available_rec == rec)[0]]/len(litres[:,np.where(available_rec == rec)[0]])\n",
    "                litres_to_fix[np.where(litres_to_fix > 0)[0][0]] = 0\n",
    "            else:   \n",
    "                litres_to_sum[np.where(available_rec == rec)[0]] = rec\n",
    "                available_rec[np.where(available_rec == rec)[0]] = 0\n",
    "                rec = 0\n",
    "                litres[:,np.where(litres_to_fix > 0)[0][0]] -= litres_to_sum[np.where(available_rec == rec)]/len(litres[:,np.where(litres_to_fix > 0)[0][0]])\n",
    "                litres[:, np.where(available_rec == rec)[0]] += litres_to_sum[np.where(available_rec == rec)]/len(litres[:,np.where(available_rec == rec)[0]])\n",
    "                litres_to_fix[np.where(litres_to_fix > 0)[0][0]] -= rec\n",
    "\n",
    "        if len(np.where(litres_to_fix > 0)[0]) == 0:\n",
    "            break\n",
    "    return litres\n",
    "\n",
    "    \n",
    "def transform_variables(N_seccens,N_etaps,consums, percentatges, capacitats):\n",
    "    consums_aux = np.copy(consums)\n",
    "    capacitats_aux = np.copy(capacitats)\n",
    "    litres = np.zeros((N_seccens,N_etaps))\n",
    "    for i, row in enumerate(percentatges):\n",
    "        for j, col in enumerate(row):\n",
    "            litres[i,j] = min(consums_aux[i], capacitats_aux[j]) * col\n",
    "            consums_aux[i] -= litres[i,j]\n",
    "            capacitats_aux[j] -= litres[i,j]\n",
    "        litres[i,-1] = consums_aux[i]\n",
    "        consums_aux[i] -= litres[i,-1]\n",
    "    if not check_availability_constraints(litres, capacitats):\n",
    "        litres = fix_availability_constraints(litres, capacitats)\n",
    "    return litres\n",
    "\n",
    "def update(n_seccens,n_etaps,costes, n_particles, w, c1, c2, consums_districtes, capacitat_recurs):\n",
    "    \"Function to do one iteration of particle swarm optimization\"\n",
    "    global V, X, pbest, pbest_obj, gbest, gbest_obj\n",
    "    # Update params\n",
    "    r1, r2 = np.random.rand(n_seccens,n_etaps-1, n_particles), np.random.rand(n_seccens,n_etaps-1, n_particles)\n",
    "    gbest_aux = gbest[:,:,np.newaxis]\n",
    "    V = w * V + c1*r1*(pbest - X) + c2*r2*(gbest_aux-X)\n",
    "    V = np.clip(V, -0.5, 0.5)\n",
    "    X = X + V\n",
    "    X = np.clip(X, 0, 1)\n",
    "   \n",
    "    obj = np.zeros(n_particles)\n",
    "    litres_part_aux = np.zeros((n_seccens,n_etaps,n_particles))\n",
    "    for p in range(n_particles):\n",
    "        litres_part_aux[:,:,p] = transform_variables(n_seccens,n_etaps,consums_districtes, np.copy(X[:,:,p]), capacitat_recurs)\n",
    "        obj[p] = f_v2(litres_part_aux[:,:,p],costes)\n",
    "    pbest[:, :, (pbest_obj >= obj)] = X[:, :, (pbest_obj >= obj)]\n",
    "    pbest_obj = np.array([pbest_obj, obj]).min(axis=0)\n",
    "    gbest = pbest[:, :, pbest_obj.argmin()]\n",
    "    gbest_obj = pbest_obj.min()\n",
    "    return gbest, gbest_obj, X, obj.min()"
   ]
  },
  {
   "cell_type": "markdown",
   "metadata": {},
   "source": [
    "## 3.2 Compute PSO:"
   ]
  },
  {
   "cell_type": "code",
   "execution_count": 39,
   "metadata": {},
   "outputs": [
    {
     "name": "stdout",
     "output_type": "stream",
     "text": [
      "Iteration 0: Best solution found at f([[8.88978662e-04 1.39785005e-01 3.73200216e-02]\n",
      " [6.27196593e-01 2.75217637e-01 3.25478473e-01]\n",
      " [7.57537721e-01 5.08817354e-01 3.82368843e-01]\n",
      " ...\n",
      " [5.83890518e-01 8.24738417e-01 9.76751075e-01]\n",
      " [3.68298265e-01 8.44946010e-01 1.13206745e-01]\n",
      " [6.19152536e-01 5.13841081e-01 7.71567922e-01]])=11772.654168598938\n",
      "Iteration 1: Best solution found at f()=11772.654168598938\n",
      "Iteration 2: Best solution found at f()=11772.654168598938\n",
      "Iteration 3: Best solution found at f()=11772.654168598938\n",
      "Iteration 4: Best solution found at f()=11772.654168598938\n",
      "Iteration 5: Best solution found at f()=11772.654168598938\n",
      "Iteration 6: Best solution found at f()=11772.654168598938\n",
      "Iteration 7: Best solution found at f()=11772.654168598938\n",
      "Iteration 8: Best solution found at f()=11772.654168598938\n",
      "Iteration 9: Best solution found at f()=11772.654168598938\n",
      "Iteration 10: Best solution found at f()=11708.27342212667\n",
      "Iteration 11: Best solution found at f()=11637.590446450678\n",
      "Iteration 12: Best solution found at f()=11597.030399750807\n",
      "Iteration 13: Best solution found at f()=11588.532692272884\n",
      "Iteration 14: Best solution found at f()=11575.252258861281\n",
      "Iteration 15: Best solution found at f()=11554.157604530501\n",
      "Iteration 16: Best solution found at f()=11545.651528468212\n",
      "Iteration 17: Best solution found at f()=11539.852183952225\n",
      "Iteration 18: Best solution found at f()=11534.309573661194\n",
      "Iteration 19: Best solution found at f()=11523.038116240647\n",
      "Iteration 20: Best solution found at f()=11520.03578127756\n",
      "Iteration 21: Best solution found at f()=11518.346373478355\n",
      "Iteration 22: Best solution found at f()=11511.117341028832\n",
      "Iteration 23: Best solution found at f()=11496.788946090961\n",
      "Iteration 24: Best solution found at f()=11486.768685877927\n",
      "Iteration 25: Best solution found at f()=11480.11992902321\n",
      "Iteration 26: Best solution found at f()=11471.26688070229\n",
      "Iteration 27: Best solution found at f()=11461.85361145598\n",
      "Iteration 28: Best solution found at f()=11453.865361919834\n",
      "Iteration 29: Best solution found at f()=11447.79218605964\n",
      "Iteration 30: Best solution found at f()=11442.789186190552\n",
      "Iteration 31: Best solution found at f()=11438.776512364213\n",
      "Iteration 32: Best solution found at f()=11435.534649629157\n",
      "Iteration 33: Best solution found at f()=11432.94422723432\n",
      "Iteration 34: Best solution found at f()=11430.895775484767\n",
      "Iteration 35: Best solution found at f()=11426.521854467845\n",
      "Iteration 36: Best solution found at f()=11421.867238672845\n",
      "Iteration 37: Best solution found at f()=11418.097791452437\n",
      "Iteration 38: Best solution found at f()=11415.038736585266\n",
      "Iteration 39: Best solution found at f()=11412.567186251566\n",
      "Iteration 40: Best solution found at f()=11410.596830207605\n",
      "Iteration 41: Best solution found at f()=11408.541419528052\n",
      "Iteration 42: Best solution found at f()=11406.816356943109\n",
      "Iteration 43: Best solution found at f()=11405.158131071064\n",
      "Iteration 44: Best solution found at f()=11402.911107998794\n",
      "Iteration 45: Best solution found at f()=11401.13498060199\n",
      "Iteration 46: Best solution found at f()=11399.74232488409\n",
      "Iteration 47: Best solution found at f()=11398.625584608182\n",
      "Iteration 48: Best solution found at f()=11397.727898696568\n",
      "Iteration 49: Best solution found at f()=11397.00913841367\n",
      "Iteration 50: Best solution found at f()=11396.229845461701\n",
      "Iteration 51: Best solution found at f()=11395.290527669073\n",
      "Iteration 52: Best solution found at f()=11394.538979269833\n",
      "Iteration 53: Best solution found at f()=11393.93601464654\n",
      "Iteration 54: Best solution found at f()=11393.45390963385\n",
      "Iteration 55: Best solution found at f()=11392.925888636852\n",
      "Iteration 56: Best solution found at f()=11392.183072806494\n",
      "Iteration 57: Best solution found at f()=11391.587816936579\n",
      "Iteration 58: Best solution found at f()=11391.111601452889\n",
      "Iteration 59: Best solution found at f()=11390.730670346078\n",
      "Iteration 60: Best solution found at f()=11390.425896140569\n",
      "Iteration 61: Best solution found at f()=11390.182831752696\n",
      "Iteration 62: Best solution found at f()=11389.98979175519\n",
      "Iteration 63: Best solution found at f()=11389.835323605046\n",
      "Iteration 64: Best solution found at f()=11389.65131110745\n",
      "Iteration 65: Best solution found at f()=11389.363132057435\n",
      "Iteration 66: Best solution found at f()=11389.121869466808\n",
      "Iteration 67: Best solution found at f()=11388.928495996035\n",
      "Iteration 68: Best solution found at f()=11388.774290258734\n",
      "Iteration 69: Best solution found at f()=11388.651002508537\n",
      "Iteration 70: Best solution found at f()=11388.553013583569\n",
      "Iteration 71: Best solution found at f()=11388.453017367312\n",
      "Iteration 72: Best solution found at f()=11388.35301612006\n",
      "Iteration 73: Best solution found at f()=11388.273361275558\n",
      "Iteration 74: Best solution found at f()=11388.147598508467\n",
      "Iteration 75: Best solution found at f()=11388.043027292588\n",
      "Iteration 76: Best solution found at f()=11387.959840148671\n",
      "Iteration 77: Best solution found at f()=11387.893305315665\n",
      "Iteration 78: Best solution found at f()=11387.840052087096\n",
      "Iteration 79: Best solution found at f()=11387.797436132887\n",
      "Iteration 80: Best solution found at f()=11387.763348143682\n",
      "Iteration 81: Best solution found at f()=11387.729040551498\n",
      "Iteration 82: Best solution found at f()=11387.68213709249\n",
      "Iteration 83: Best solution found at f()=11387.644612357648\n",
      "Iteration 84: Best solution found at f()=11387.61456722347\n",
      "Iteration 85: Best solution found at f()=11387.590551142215\n",
      "Iteration 86: Best solution found at f()=11387.571330023575\n",
      "Iteration 87: Best solution found at f()=11387.552038300957\n",
      "Iteration 88: Best solution found at f()=11387.526248160615\n",
      "Iteration 89: Best solution found at f()=11387.504588311755\n",
      "Iteration 90: Best solution found at f()=11387.487241178496\n",
      "Iteration 91: Best solution found at f()=11387.473388625462\n",
      "Iteration 92: Best solution found at f()=11387.462307134756\n",
      "Iteration 93: Best solution found at f()=11387.453198061652\n",
      "Iteration 94: Best solution found at f()=11387.442931474758\n",
      "Iteration 95: Best solution found at f()=11387.431029900705\n",
      "Iteration 96: Best solution found at f()=11387.421518035284\n",
      "Iteration 97: Best solution found at f()=11387.413920069146\n",
      "Iteration 98: Best solution found at f()=11387.407824632286\n",
      "Iteration 99: Best solution found at f()=11387.402966818496\n",
      "Iteration 100: Best solution found at f()=11387.397370918507\n",
      "Iteration 101: Best solution found at f()=11387.390354584273\n",
      "Iteration 102: Best solution found at f()=11387.384747440792\n",
      "Iteration 103: Best solution found at f()=11387.380284076331\n",
      "Iteration 104: Best solution found at f()=11387.376682223843\n",
      "Iteration 105: Best solution found at f()=11387.373826317376\n",
      "Iteration 106: Best solution found at f()=11387.371424981622\n",
      "Iteration 107: Best solution found at f()=11387.368358729973\n",
      "Iteration 108: Best solution found at f()=11387.365896856158\n",
      "Iteration 109: Best solution found at f()=11387.362387997819\n",
      "Iteration 110: Best solution found at f()=11387.359431888775\n",
      "Iteration 111: Best solution found at f()=11387.357104992248\n",
      "Iteration 112: Best solution found at f()=11387.355201690858\n",
      "Iteration 113: Best solution found at f()=11387.353709594026\n",
      "Iteration 114: Best solution found at f()=11387.352494381566\n",
      "Iteration 115: Best solution found at f()=11387.351542927998\n",
      "Iteration 116: Best solution found at f()=11387.35053600954\n",
      "Iteration 117: Best solution found at f()=11387.349470664027\n",
      "Iteration 118: Best solution found at f()=11387.348327517528\n",
      "Iteration 119: Best solution found at f()=11387.347058554646\n",
      "Iteration 120: Best solution found at f()=11387.345948326856\n",
      "Iteration 121: Best solution found at f()=11387.345034532897\n",
      "Iteration 122: Best solution found at f()=11387.344340981512\n",
      "Iteration 123: Best solution found at f()=11387.343781514517\n",
      "Iteration 124: Best solution found at f()=11387.343318073188\n",
      "Iteration 125: Best solution found at f()=11387.342987799975\n",
      "Iteration 126: Best solution found at f()=11387.342598229767\n",
      "Iteration 127: Best solution found at f()=11387.342169234113\n",
      "Iteration 128: Best solution found at f()=11387.341687749566\n",
      "Iteration 129: Best solution found at f()=11387.341274117023\n",
      "Iteration 130: Best solution found at f()=11387.34097291665\n",
      "Iteration 131: Best solution found at f()=11387.340671819584\n",
      "Iteration 132: Best solution found at f()=11387.34035970841\n",
      "Iteration 133: Best solution found at f()=11387.340062684965\n",
      "Iteration 134: Best solution found at f()=11387.339836572035\n",
      "Iteration 135: Best solution found at f()=11387.339625400633\n",
      "Iteration 136: Best solution found at f()=11387.33945727189\n",
      "Iteration 137: Best solution found at f()=11387.339319308958\n",
      "Iteration 138: Best solution found at f()=11387.339241480315\n",
      "Iteration 139: Best solution found at f()=11387.339073436207\n",
      "Iteration 140: Best solution found at f()=11387.338854781512\n",
      "Iteration 141: Best solution found at f()=11387.338657814935\n",
      "Iteration 142: Best solution found at f()=11387.33853977493\n",
      "Iteration 143: Best solution found at f()=11387.33840790441\n",
      "Iteration 144: Best solution found at f()=11387.338305033587\n",
      "Iteration 145: Best solution found at f()=11387.338231066326\n",
      "Iteration 146: Best solution found at f()=11387.33816371587\n",
      "Iteration 147: Best solution found at f()=11387.338125014183\n",
      "Iteration 148: Best solution found at f()=11387.338099360513\n",
      "Iteration 149: Best solution found at f()=11387.33805404895\n",
      "Iteration 150: Best solution found at f()=11387.338003795798\n",
      "Iteration 151: Best solution found at f()=11387.337939992936\n",
      "Iteration 152: Best solution found at f()=11387.337883721775\n",
      "Iteration 153: Best solution found at f()=11387.337811347483\n",
      "Iteration 154: Best solution found at f()=11387.337774513391\n",
      "Iteration 155: Best solution found at f()=11387.337731229949\n",
      "Iteration 156: Best solution found at f()=11387.337710756301\n",
      "Iteration 157: Best solution found at f()=11387.337700265187\n",
      "Iteration 158: Best solution found at f()=11387.3376920462\n",
      "Iteration 159: Best solution found at f()=11387.337658760674\n",
      "Iteration 160: Best solution found at f()=11387.337642266682\n",
      "Iteration 161: Best solution found at f()=11387.337587490943\n",
      "Iteration 162: Best solution found at f()=11387.337587308219\n",
      "Iteration 163: Best solution found at f()=11387.337584411522\n",
      "Iteration 164: Best solution found at f()=11387.337569420979\n",
      "Iteration 165: Best solution found at f()=11387.337560899141\n",
      "Iteration 166: Best solution found at f()=11387.337553489477\n",
      "Iteration 167: Best solution found at f()=11387.33754576795\n",
      "Iteration 168: Best solution found at f()=11387.337536472827\n",
      "Iteration 169: Best solution found at f()=11387.337522724092\n",
      "Iteration 170: Best solution found at f()=11387.33752218251\n",
      "Iteration 171: Best solution found at f()=11387.337511547998\n",
      "Iteration 172: Best solution found at f()=11387.337511547998\n",
      "Iteration 173: Best solution found at f()=11387.337510948842\n",
      "Iteration 174: Best solution found at f()=11387.337505109233\n",
      "Iteration 175: Best solution found at f()=11387.337501438755\n",
      "Iteration 176: Best solution found at f()=11387.337498219393\n",
      "Iteration 177: Best solution found at f()=11387.337498219393\n",
      "Iteration 178: Best solution found at f()=11387.337494904885\n",
      "Iteration 179: Best solution found at f()=11387.337491107759\n",
      "Iteration 180: Best solution found at f()=11387.337491107759\n",
      "Iteration 181: Best solution found at f()=11387.337491107759\n",
      "Iteration 182: Best solution found at f()=11387.337491107759\n",
      "Iteration 183: Best solution found at f()=11387.337491107759\n",
      "Iteration 184: Best solution found at f()=11387.337488323077\n",
      "Iteration 185: Best solution found at f()=11387.337485631371\n",
      "Iteration 186: Best solution found at f()=11387.337485631371\n",
      "Iteration 187: Best solution found at f()=11387.337485631371\n",
      "Iteration 188: Best solution found at f()=11387.337484742606\n",
      "Iteration 189: Best solution found at f()=11387.33748383038\n",
      "Iteration 190: Best solution found at f()=11387.337483539246\n",
      "Iteration 191: Best solution found at f()=11387.337483539246\n",
      "Iteration 192: Best solution found at f()=11387.337483539246\n",
      "Iteration 193: Best solution found at f()=11387.337483539246\n",
      "Iteration 194: Best solution found at f()=11387.337483539246\n",
      "Iteration 195: Best solution found at f()=11387.337483539246\n",
      "Iteration 196: Best solution found at f()=11387.337481973616\n",
      "Iteration 197: Best solution found at f()=11387.337481973616\n",
      "Iteration 198: Best solution found at f()=11387.337481973616\n",
      "Iteration 199: Best solution found at f()=11387.337481973616\n",
      "PSO found best solution at f([[0.         0.         0.        ]\n",
      " [0.42995634 0.         0.19931792]\n",
      " [0.39356918 0.28915334 0.        ]\n",
      " ...\n",
      " [0.50133129 0.52998519 0.68375247]\n",
      " [0.0278922  0.9311823  0.        ]\n",
      " [0.54152495 0.43072124 0.80402757]])=11387.337481973616\n"
     ]
    },
    {
     "data": {
      "image/png": "[encoded data removed]",
      "text/plain": [
       "<Figure size 800x600 with 1 Axes>"
      ]
     },
     "metadata": {},
     "output_type": "display_data"
    }
   ],
   "source": [
    "# Take all the etaps and censal sections------------------------------------------------------\n",
    "etaps=list(gpd.GeoDataFrame(cons.variables.etaps).iterrows())\n",
    "seccens=list(gpd.read_file(cons.files.output_full_ds_consum+\".geojson\").iterrows())\n",
    "n_seccens=len(seccens)\n",
    "n_etaps=len(etaps)\n",
    "\n",
    "# Predicted values of consumption ------------------------------------------------------------\n",
    "consums_districtes = np.array(predictions) # random for now to try\n",
    "capacitat_recurs = gds_etaps[\"CAPACITAT AIGUA DIARIA(L)\"].values\n",
    "\n",
    "# Costs --------------------------------------------------------------------------------------\n",
    "df = pd.read_csv(cons.files.output_cost_matrix,index_col=0)\n",
    "costes = np.array(df)\n",
    "# Hyper-parameter of the algorithm -----------------------------------------------------------\n",
    "c1 = c2 = 0.1\n",
    "w = 0.8\n",
    "\n",
    "# Create particles \n",
    "n_particles = 20\n",
    "X = np.random.rand(n_seccens,n_etaps-1, n_particles)\n",
    "V = np.random.rand(n_seccens,n_etaps-1, n_particles) \n",
    "\n",
    "# Initialize data\n",
    "pbest = X\n",
    "litres_part = np.zeros((n_seccens,n_etaps,n_particles))\n",
    "pbest_obj = np.zeros(n_particles)\n",
    "for p in range(n_particles):\n",
    "    litres_part[:,:,p] = transform_variables(n_seccens,n_etaps,consums_districtes, X[:,:,p], capacitat_recurs)\n",
    "    pbest_obj[p] = f_v2(litres_part[:,:,p],costes)\n",
    "gbest = pbest[:, :, pbest_obj.argmin()]\n",
    "gbest_obj = pbest_obj.min()\n",
    "\n",
    "converg = []\n",
    "N_iter = 200\n",
    "for i in range(N_iter):\n",
    "    gbest, gbest_obj, X_ant , consum_matrix= update(n_seccens, n_etaps, costes, n_particles, w, c1, c2, consums_districtes, capacitat_recurs)\n",
    "    converg.append(gbest_obj)\n",
    "    if i == 0:\n",
    "        print(\"Iteration {}: Best solution found at f({})={}\".format(i, gbest, gbest_obj))\n",
    "    else:\n",
    "        print(\"Iteration {}: Best solution found at f()={}\".format(i, gbest_obj))\n",
    "litros_final = transform_variables(n_seccens,n_etaps,consums_districtes, np.copy(gbest), capacitat_recurs)\n",
    "fig, ax = plt.subplots(figsize=(8,6))\n",
    "iter = np.arange(N_iter)\n",
    "ax.plot(iter, converg)\n",
    "print(\"PSO found best solution at f({})={}\".format(gbest, gbest_obj))"
   ]
  },
  {
   "cell_type": "markdown",
   "metadata": {},
   "source": [
    "In the figure, you can observe how the objective function decreases over the iterations of the PSO. Eventually, it converges to a final solution, which is nearly optimal. Reducing the objective function is equivalent to reducing the water distribution cost, as the function is calculated considering the energy cost of transporting water between different consumption points and water supply points, in our case, the WTSs."
   ]
  },
  {
   "cell_type": "markdown",
   "metadata": {},
   "source": [
    "### Mapa generation"
   ]
  },
  {
   "cell_type": "code",
   "execution_count": 43,
   "metadata": {},
   "outputs": [],
   "source": [
    "gds_etaps=gpd.GeoDataFrame(cons.variables.etaps)\n",
    "gds_consum=gpd.read_file(cons.files.output_full_ds_consum+\".geojson\")\n",
    "cost_matrix_df=pd.read_csv(cons.files.output_cost_matrix, index_col=0)\n",
    "\n",
    "noms_etaps = gds_etaps[\"NOM\"].values\n",
    "noms_consum = array_sec_cens\n",
    "gds_etaps = gds_etaps.set_index(\"NOM\")\n",
    "gds_consum = gds_consum.set_index(\"Seccio Censal\")\n",
    "costs=[]\n",
    "lines=[]\n",
    "distancies=[]\n",
    "codis_censals=[]\n",
    "etaps=[]\n",
    "\n",
    "for i, codi_censal in enumerate(litros_final):\n",
    "    for j,etap in enumerate(codi_censal):\n",
    "        etap = noms_etaps[j]\n",
    "        codi_censal = noms_consum[i]\n",
    "        codis_censals.append(codi_censal)\n",
    "        etaps.append(etap)\n",
    "        costs.append(litros_final[i][j])\n",
    "        lines.append(LineString([loads(gds_consum[\"Centroid\"][codi_censal]), gds_etaps[\"geometry\"][etap]]))\n",
    "        distancies.append(distancia(gds_etaps[\"geometry\"][etap], loads(gds_consum[\"Centroid\"][codi_censal])))\n",
    "\n",
    "gds_water_paths=gpd.GeoDataFrame({\n",
    "    \"Litres\": costs,\n",
    "    \"ETAP\":etaps,\n",
    "    \"Seccio Censal\": codis_censals,\n",
    "    \"Lenghts (m)\": distancies,\n",
    "    \"geometry\":lines\n",
    "})"
   ]
  },
  {
   "cell_type": "code",
   "execution_count": 44,
   "metadata": {},
   "outputs": [],
   "source": [
    "center_coord=(41.352543052311276, 2.049638990849189)\n",
    "map=folium.Map(center_coord, zoom_control=3)\n",
    "\n",
    "gds_water_paths_sjd=gds_water_paths[gds_water_paths[\"ETAP\"]==\"ETAP Sant Joan Despí\"]\n",
    "gds_water_paths_le=gds_water_paths[gds_water_paths[\"ETAP\"]==\"ETAP Les Estrelles\"]\n",
    "gds_water_paths_ll=gds_water_paths[gds_water_paths[\"ETAP\"]==\"ETAP La Llagosta\"]\n",
    "gds_water_paths_be=gds_water_paths[gds_water_paths[\"ETAP\"]==\"ETAP El Besòs\"]\n",
    "\n",
    "map=gds_consum.explore(m=map, color=\"Red\", name=\"Consum\")\n",
    "map=gds_etaps.explore(m=map, color=\"Green\", name=\"ETAP Sant Joan Despí\")\n",
    "map=gds_water_paths_sjd.explore(m=map, column=\"Litres\", name=\"ETAP Sant Joan Despí\")\n",
    "map=gds_water_paths_le.explore(m=map, column=\"Litres\", name=\"ETAP Les Estrelles\")\n",
    "map=gds_water_paths_ll.explore(m=map, column=\"Litres\", name=\"La Llagosta\")\n",
    "map=gds_water_paths_be.explore(m=map, column=\"Litres\", name=\"El Besòs\")\n",
    "\n",
    "folium.LayerControl().add_to(map)\n",
    "folium.LatLngPopup().add_to(map)\n",
    "\n",
    "map.save(\"mapa.html\")"
   ]
  },
  {
   "cell_type": "markdown",
   "metadata": {},
   "source": [
    "The map shows, layer by layer, the volumes calculated that each WTS must supply to the corresponding census section. The map is available in the file \"mapa.html\" saved in the Jupyter Notebook directory.\n",
    "\n",
    "### CONCLUSIONS\n",
    "The presented project demonstrates a proof of concept for a system to manage water distribution. It includes two blocks and a results visualization module. The two blocks are: a water demand predictor block and a water distribution optimizer block for census sections from the WTSs.\n",
    "\n",
    "With this project, although still in the initial phase, we aim to demonstrate that such software can help the organization manage water more autonomously and optimally, minimizing the energy cost of water transportation. Additionally, this contributes to sustainability in the city of Barcelona. It also helps the city move towards future technologies, providing essential features for advancing towards becoming a Smart City.\n",
    "\n",
    "### FUTURE WORK\n",
    "By observing the performance of different parts of our system and keeping an open mind for future improvements, we believe this project can serve as a foundation for further development and can be used to increase the efficiency of the entire distribution system.\n",
    "\n",
    "Regarding the predictor block, we ensured the selection of a system (DeepAR) that allows adding external variables besides consumption that might influence predictions. We have tested with daily temperature data in Barcelona and consider it important to add other features such as demographics or holidays.\n",
    "\n",
    "For the distribution optimization block, we propose several improvements:\n",
    "\n",
    "- Adding new distribution sources such as desalination plants or water reuse stations.\n",
    "- Including in the cost calculation factors such as the water production cost at each WTS or the average efficiency of the pipelines/m, so the cost is better modeled.\n",
    "- Accessing real paths (pipelines and reservoirs) to perform the PSO more accurately.\n",
    "\n",
    "Finally, we are considering developing a new block that calculates real-time errors in predictions and distribution and corrects them in real-time."
   ]
  }
 ],
 "metadata": {
  "kernelspec": {
   "display_name": "hackathon",
   "language": "python",
   "name": "python3"
  },
  "language_info": {
   "codemirror_mode": {
    "name": "ipython",
    "version": 3
   },
   "file_extension": ".py",
   "mimetype": "text/x-python",
   "name": "python",
   "nbconvert_exporter": "python",
   "pygments_lexer": "ipython3",
   "version": "3.8.18"
  }
 },
 "nbformat": 4,
 "nbformat_minor": 2
}
